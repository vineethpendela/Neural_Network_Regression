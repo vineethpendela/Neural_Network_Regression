{
 "cells": [
  {
   "cell_type": "code",
   "execution_count": 52,
   "metadata": {
    "id": "FASK7_Xz99pi"
   },
   "outputs": [],
   "source": [
    "import pandas as pd\n",
    "import numpy as np\n",
    "from matplotlib import pyplot as plt\n",
    "import seaborn as sns"
   ]
  },
  {
   "cell_type": "code",
   "execution_count": 53,
   "metadata": {
    "colab": {
     "base_uri": "https://localhost:8080/",
     "height": 357
    },
    "id": "mHOSNSuN-22i",
    "outputId": "86bf35e2-0cbc-437f-f36b-02ca0a448177"
   },
   "outputs": [
    {
     "data": {
      "text/html": [
       "\n",
       "  <div id=\"df-b7ab7ff7-7a72-456b-8975-ee8e10bb1e2e\">\n",
       "    <div class=\"colab-df-container\">\n",
       "      <div>\n",
       "<style scoped>\n",
       "    .dataframe tbody tr th:only-of-type {\n",
       "        vertical-align: middle;\n",
       "    }\n",
       "\n",
       "    .dataframe tbody tr th {\n",
       "        vertical-align: top;\n",
       "    }\n",
       "\n",
       "    .dataframe thead th {\n",
       "        text-align: right;\n",
       "    }\n",
       "</style>\n",
       "<table border=\"1\" class=\"dataframe\">\n",
       "  <thead>\n",
       "    <tr style=\"text-align: right;\">\n",
       "      <th></th>\n",
       "      <th>market_id</th>\n",
       "      <th>created_at</th>\n",
       "      <th>actual_delivery_time</th>\n",
       "      <th>store_id</th>\n",
       "      <th>store_primary_category</th>\n",
       "      <th>order_protocol</th>\n",
       "      <th>total_items</th>\n",
       "      <th>subtotal</th>\n",
       "      <th>num_distinct_items</th>\n",
       "      <th>min_item_price</th>\n",
       "      <th>max_item_price</th>\n",
       "      <th>total_onshift_partners</th>\n",
       "      <th>total_busy_partners</th>\n",
       "      <th>total_outstanding_orders</th>\n",
       "    </tr>\n",
       "  </thead>\n",
       "  <tbody>\n",
       "    <tr>\n",
       "      <th>0</th>\n",
       "      <td>1.0</td>\n",
       "      <td>2015-02-06 22:24:17</td>\n",
       "      <td>2015-02-06 23:27:16</td>\n",
       "      <td>df263d996281d984952c07998dc54358</td>\n",
       "      <td>american</td>\n",
       "      <td>1.0</td>\n",
       "      <td>4</td>\n",
       "      <td>3441</td>\n",
       "      <td>4</td>\n",
       "      <td>557</td>\n",
       "      <td>1239</td>\n",
       "      <td>33.0</td>\n",
       "      <td>14.0</td>\n",
       "      <td>21.0</td>\n",
       "    </tr>\n",
       "    <tr>\n",
       "      <th>1</th>\n",
       "      <td>2.0</td>\n",
       "      <td>2015-02-10 21:49:25</td>\n",
       "      <td>2015-02-10 22:56:29</td>\n",
       "      <td>f0ade77b43923b38237db569b016ba25</td>\n",
       "      <td>mexican</td>\n",
       "      <td>2.0</td>\n",
       "      <td>1</td>\n",
       "      <td>1900</td>\n",
       "      <td>1</td>\n",
       "      <td>1400</td>\n",
       "      <td>1400</td>\n",
       "      <td>1.0</td>\n",
       "      <td>2.0</td>\n",
       "      <td>2.0</td>\n",
       "    </tr>\n",
       "    <tr>\n",
       "      <th>2</th>\n",
       "      <td>3.0</td>\n",
       "      <td>2015-01-22 20:39:28</td>\n",
       "      <td>2015-01-22 21:09:09</td>\n",
       "      <td>f0ade77b43923b38237db569b016ba25</td>\n",
       "      <td>NaN</td>\n",
       "      <td>1.0</td>\n",
       "      <td>1</td>\n",
       "      <td>1900</td>\n",
       "      <td>1</td>\n",
       "      <td>1900</td>\n",
       "      <td>1900</td>\n",
       "      <td>1.0</td>\n",
       "      <td>0.0</td>\n",
       "      <td>0.0</td>\n",
       "    </tr>\n",
       "    <tr>\n",
       "      <th>3</th>\n",
       "      <td>3.0</td>\n",
       "      <td>2015-02-03 21:21:45</td>\n",
       "      <td>2015-02-03 22:13:00</td>\n",
       "      <td>f0ade77b43923b38237db569b016ba25</td>\n",
       "      <td>NaN</td>\n",
       "      <td>1.0</td>\n",
       "      <td>6</td>\n",
       "      <td>6900</td>\n",
       "      <td>5</td>\n",
       "      <td>600</td>\n",
       "      <td>1800</td>\n",
       "      <td>1.0</td>\n",
       "      <td>1.0</td>\n",
       "      <td>2.0</td>\n",
       "    </tr>\n",
       "    <tr>\n",
       "      <th>4</th>\n",
       "      <td>3.0</td>\n",
       "      <td>2015-02-15 02:40:36</td>\n",
       "      <td>2015-02-15 03:20:26</td>\n",
       "      <td>f0ade77b43923b38237db569b016ba25</td>\n",
       "      <td>NaN</td>\n",
       "      <td>1.0</td>\n",
       "      <td>3</td>\n",
       "      <td>3900</td>\n",
       "      <td>3</td>\n",
       "      <td>1100</td>\n",
       "      <td>1600</td>\n",
       "      <td>6.0</td>\n",
       "      <td>6.0</td>\n",
       "      <td>9.0</td>\n",
       "    </tr>\n",
       "  </tbody>\n",
       "</table>\n",
       "</div>\n",
       "      <button class=\"colab-df-convert\" onclick=\"convertToInteractive('df-b7ab7ff7-7a72-456b-8975-ee8e10bb1e2e')\"\n",
       "              title=\"Convert this dataframe to an interactive table.\"\n",
       "              style=\"display:none;\">\n",
       "        \n",
       "  <svg xmlns=\"http://www.w3.org/2000/svg\" height=\"24px\"viewBox=\"0 0 24 24\"\n",
       "       width=\"24px\">\n",
       "    <path d=\"M0 0h24v24H0V0z\" fill=\"none\"/>\n",
       "    <path d=\"M18.56 5.44l.94 2.06.94-2.06 2.06-.94-2.06-.94-.94-2.06-.94 2.06-2.06.94zm-11 1L8.5 8.5l.94-2.06 2.06-.94-2.06-.94L8.5 2.5l-.94 2.06-2.06.94zm10 10l.94 2.06.94-2.06 2.06-.94-2.06-.94-.94-2.06-.94 2.06-2.06.94z\"/><path d=\"M17.41 7.96l-1.37-1.37c-.4-.4-.92-.59-1.43-.59-.52 0-1.04.2-1.43.59L10.3 9.45l-7.72 7.72c-.78.78-.78 2.05 0 2.83L4 21.41c.39.39.9.59 1.41.59.51 0 1.02-.2 1.41-.59l7.78-7.78 2.81-2.81c.8-.78.8-2.07 0-2.86zM5.41 20L4 18.59l7.72-7.72 1.47 1.35L5.41 20z\"/>\n",
       "  </svg>\n",
       "      </button>\n",
       "      \n",
       "  <style>\n",
       "    .colab-df-container {\n",
       "      display:flex;\n",
       "      flex-wrap:wrap;\n",
       "      gap: 12px;\n",
       "    }\n",
       "\n",
       "    .colab-df-convert {\n",
       "      background-color: #E8F0FE;\n",
       "      border: none;\n",
       "      border-radius: 50%;\n",
       "      cursor: pointer;\n",
       "      display: none;\n",
       "      fill: #1967D2;\n",
       "      height: 32px;\n",
       "      padding: 0 0 0 0;\n",
       "      width: 32px;\n",
       "    }\n",
       "\n",
       "    .colab-df-convert:hover {\n",
       "      background-color: #E2EBFA;\n",
       "      box-shadow: 0px 1px 2px rgba(60, 64, 67, 0.3), 0px 1px 3px 1px rgba(60, 64, 67, 0.15);\n",
       "      fill: #174EA6;\n",
       "    }\n",
       "\n",
       "    [theme=dark] .colab-df-convert {\n",
       "      background-color: #3B4455;\n",
       "      fill: #D2E3FC;\n",
       "    }\n",
       "\n",
       "    [theme=dark] .colab-df-convert:hover {\n",
       "      background-color: #434B5C;\n",
       "      box-shadow: 0px 1px 3px 1px rgba(0, 0, 0, 0.15);\n",
       "      filter: drop-shadow(0px 1px 2px rgba(0, 0, 0, 0.3));\n",
       "      fill: #FFFFFF;\n",
       "    }\n",
       "  </style>\n",
       "\n",
       "      <script>\n",
       "        const buttonEl =\n",
       "          document.querySelector('#df-b7ab7ff7-7a72-456b-8975-ee8e10bb1e2e button.colab-df-convert');\n",
       "        buttonEl.style.display =\n",
       "          google.colab.kernel.accessAllowed ? 'block' : 'none';\n",
       "\n",
       "        async function convertToInteractive(key) {\n",
       "          const element = document.querySelector('#df-b7ab7ff7-7a72-456b-8975-ee8e10bb1e2e');\n",
       "          const dataTable =\n",
       "            await google.colab.kernel.invokeFunction('convertToInteractive',\n",
       "                                                     [key], {});\n",
       "          if (!dataTable) return;\n",
       "\n",
       "          const docLinkHtml = 'Like what you see? Visit the ' +\n",
       "            '<a target=\"_blank\" href=https://colab.research.google.com/notebooks/data_table.ipynb>data table notebook</a>'\n",
       "            + ' to learn more about interactive tables.';\n",
       "          element.innerHTML = '';\n",
       "          dataTable['output_type'] = 'display_data';\n",
       "          await google.colab.output.renderOutput(dataTable, element);\n",
       "          const docLink = document.createElement('div');\n",
       "          docLink.innerHTML = docLinkHtml;\n",
       "          element.appendChild(docLink);\n",
       "        }\n",
       "      </script>\n",
       "    </div>\n",
       "  </div>\n",
       "  "
      ],
      "text/plain": [
       "   market_id           created_at actual_delivery_time  \\\n",
       "0        1.0  2015-02-06 22:24:17  2015-02-06 23:27:16   \n",
       "1        2.0  2015-02-10 21:49:25  2015-02-10 22:56:29   \n",
       "2        3.0  2015-01-22 20:39:28  2015-01-22 21:09:09   \n",
       "3        3.0  2015-02-03 21:21:45  2015-02-03 22:13:00   \n",
       "4        3.0  2015-02-15 02:40:36  2015-02-15 03:20:26   \n",
       "\n",
       "                           store_id store_primary_category  order_protocol  \\\n",
       "0  df263d996281d984952c07998dc54358               american             1.0   \n",
       "1  f0ade77b43923b38237db569b016ba25                mexican             2.0   \n",
       "2  f0ade77b43923b38237db569b016ba25                    NaN             1.0   \n",
       "3  f0ade77b43923b38237db569b016ba25                    NaN             1.0   \n",
       "4  f0ade77b43923b38237db569b016ba25                    NaN             1.0   \n",
       "\n",
       "   total_items  subtotal  num_distinct_items  min_item_price  max_item_price  \\\n",
       "0            4      3441                   4             557            1239   \n",
       "1            1      1900                   1            1400            1400   \n",
       "2            1      1900                   1            1900            1900   \n",
       "3            6      6900                   5             600            1800   \n",
       "4            3      3900                   3            1100            1600   \n",
       "\n",
       "   total_onshift_partners  total_busy_partners  total_outstanding_orders  \n",
       "0                    33.0                 14.0                      21.0  \n",
       "1                     1.0                  2.0                       2.0  \n",
       "2                     1.0                  0.0                       0.0  \n",
       "3                     1.0                  1.0                       2.0  \n",
       "4                     6.0                  6.0                       9.0  "
      ]
     },
     "execution_count": 53,
     "metadata": {},
     "output_type": "execute_result"
    }
   ],
   "source": [
    "df = pd.read_csv('/content/sample_data/dataset.csv')\n",
    "df.head()"
   ]
  },
  {
   "cell_type": "code",
   "execution_count": 54,
   "metadata": {
    "colab": {
     "base_uri": "https://localhost:8080/",
     "height": 1088
    },
    "id": "aDdEfqvTBl-X",
    "outputId": "075fb715-9b88-4f17-a195-6496f06ce04f"
   },
   "outputs": [
    {
     "data": {
      "text/html": [
       "\n",
       "  <div id=\"df-ac4ba7b9-e757-40bb-9aee-e6e2baa1d8c0\">\n",
       "    <div class=\"colab-df-container\">\n",
       "      <div>\n",
       "<style scoped>\n",
       "    .dataframe tbody tr th:only-of-type {\n",
       "        vertical-align: middle;\n",
       "    }\n",
       "\n",
       "    .dataframe tbody tr th {\n",
       "        vertical-align: top;\n",
       "    }\n",
       "\n",
       "    .dataframe thead th {\n",
       "        text-align: right;\n",
       "    }\n",
       "</style>\n",
       "<table border=\"1\" class=\"dataframe\">\n",
       "  <thead>\n",
       "    <tr style=\"text-align: right;\">\n",
       "      <th></th>\n",
       "      <th>market_id</th>\n",
       "      <th>created_at</th>\n",
       "      <th>actual_delivery_time</th>\n",
       "      <th>store_id</th>\n",
       "      <th>store_primary_category</th>\n",
       "      <th>order_protocol</th>\n",
       "      <th>total_items</th>\n",
       "      <th>subtotal</th>\n",
       "      <th>num_distinct_items</th>\n",
       "      <th>min_item_price</th>\n",
       "      <th>max_item_price</th>\n",
       "      <th>total_onshift_partners</th>\n",
       "      <th>total_busy_partners</th>\n",
       "      <th>total_outstanding_orders</th>\n",
       "    </tr>\n",
       "  </thead>\n",
       "  <tbody>\n",
       "    <tr>\n",
       "      <th>0</th>\n",
       "      <td>1.0</td>\n",
       "      <td>2015-02-06 22:24:17</td>\n",
       "      <td>2015-02-06 23:27:16</td>\n",
       "      <td>df263d996281d984952c07998dc54358</td>\n",
       "      <td>american</td>\n",
       "      <td>1.0</td>\n",
       "      <td>4</td>\n",
       "      <td>3441</td>\n",
       "      <td>4</td>\n",
       "      <td>557</td>\n",
       "      <td>1239</td>\n",
       "      <td>33.0</td>\n",
       "      <td>14.0</td>\n",
       "      <td>21.0</td>\n",
       "    </tr>\n",
       "    <tr>\n",
       "      <th>1</th>\n",
       "      <td>2.0</td>\n",
       "      <td>2015-02-10 21:49:25</td>\n",
       "      <td>2015-02-10 22:56:29</td>\n",
       "      <td>f0ade77b43923b38237db569b016ba25</td>\n",
       "      <td>mexican</td>\n",
       "      <td>2.0</td>\n",
       "      <td>1</td>\n",
       "      <td>1900</td>\n",
       "      <td>1</td>\n",
       "      <td>1400</td>\n",
       "      <td>1400</td>\n",
       "      <td>1.0</td>\n",
       "      <td>2.0</td>\n",
       "      <td>2.0</td>\n",
       "    </tr>\n",
       "    <tr>\n",
       "      <th>2</th>\n",
       "      <td>3.0</td>\n",
       "      <td>2015-01-22 20:39:28</td>\n",
       "      <td>2015-01-22 21:09:09</td>\n",
       "      <td>f0ade77b43923b38237db569b016ba25</td>\n",
       "      <td>NaN</td>\n",
       "      <td>1.0</td>\n",
       "      <td>1</td>\n",
       "      <td>1900</td>\n",
       "      <td>1</td>\n",
       "      <td>1900</td>\n",
       "      <td>1900</td>\n",
       "      <td>1.0</td>\n",
       "      <td>0.0</td>\n",
       "      <td>0.0</td>\n",
       "    </tr>\n",
       "    <tr>\n",
       "      <th>3</th>\n",
       "      <td>3.0</td>\n",
       "      <td>2015-02-03 21:21:45</td>\n",
       "      <td>2015-02-03 22:13:00</td>\n",
       "      <td>f0ade77b43923b38237db569b016ba25</td>\n",
       "      <td>NaN</td>\n",
       "      <td>1.0</td>\n",
       "      <td>6</td>\n",
       "      <td>6900</td>\n",
       "      <td>5</td>\n",
       "      <td>600</td>\n",
       "      <td>1800</td>\n",
       "      <td>1.0</td>\n",
       "      <td>1.0</td>\n",
       "      <td>2.0</td>\n",
       "    </tr>\n",
       "    <tr>\n",
       "      <th>4</th>\n",
       "      <td>3.0</td>\n",
       "      <td>2015-02-15 02:40:36</td>\n",
       "      <td>2015-02-15 03:20:26</td>\n",
       "      <td>f0ade77b43923b38237db569b016ba25</td>\n",
       "      <td>NaN</td>\n",
       "      <td>1.0</td>\n",
       "      <td>3</td>\n",
       "      <td>3900</td>\n",
       "      <td>3</td>\n",
       "      <td>1100</td>\n",
       "      <td>1600</td>\n",
       "      <td>6.0</td>\n",
       "      <td>6.0</td>\n",
       "      <td>9.0</td>\n",
       "    </tr>\n",
       "    <tr>\n",
       "      <th>5</th>\n",
       "      <td>3.0</td>\n",
       "      <td>2015-01-28 20:30:38</td>\n",
       "      <td>2015-01-28 21:08:58</td>\n",
       "      <td>f0ade77b43923b38237db569b016ba25</td>\n",
       "      <td>NaN</td>\n",
       "      <td>1.0</td>\n",
       "      <td>3</td>\n",
       "      <td>5000</td>\n",
       "      <td>3</td>\n",
       "      <td>1500</td>\n",
       "      <td>1900</td>\n",
       "      <td>2.0</td>\n",
       "      <td>2.0</td>\n",
       "      <td>2.0</td>\n",
       "    </tr>\n",
       "    <tr>\n",
       "      <th>6</th>\n",
       "      <td>3.0</td>\n",
       "      <td>2015-01-31 02:16:36</td>\n",
       "      <td>2015-01-31 02:43:00</td>\n",
       "      <td>f0ade77b43923b38237db569b016ba25</td>\n",
       "      <td>NaN</td>\n",
       "      <td>1.0</td>\n",
       "      <td>2</td>\n",
       "      <td>3900</td>\n",
       "      <td>2</td>\n",
       "      <td>1200</td>\n",
       "      <td>2700</td>\n",
       "      <td>10.0</td>\n",
       "      <td>9.0</td>\n",
       "      <td>9.0</td>\n",
       "    </tr>\n",
       "    <tr>\n",
       "      <th>7</th>\n",
       "      <td>3.0</td>\n",
       "      <td>2015-02-12 03:03:35</td>\n",
       "      <td>2015-02-12 03:36:20</td>\n",
       "      <td>f0ade77b43923b38237db569b016ba25</td>\n",
       "      <td>NaN</td>\n",
       "      <td>1.0</td>\n",
       "      <td>4</td>\n",
       "      <td>4850</td>\n",
       "      <td>4</td>\n",
       "      <td>750</td>\n",
       "      <td>1800</td>\n",
       "      <td>7.0</td>\n",
       "      <td>8.0</td>\n",
       "      <td>7.0</td>\n",
       "    </tr>\n",
       "    <tr>\n",
       "      <th>8</th>\n",
       "      <td>2.0</td>\n",
       "      <td>2015-02-16 00:11:35</td>\n",
       "      <td>2015-02-16 00:38:01</td>\n",
       "      <td>f0ade77b43923b38237db569b016ba25</td>\n",
       "      <td>indian</td>\n",
       "      <td>3.0</td>\n",
       "      <td>4</td>\n",
       "      <td>4771</td>\n",
       "      <td>3</td>\n",
       "      <td>820</td>\n",
       "      <td>1604</td>\n",
       "      <td>8.0</td>\n",
       "      <td>6.0</td>\n",
       "      <td>18.0</td>\n",
       "    </tr>\n",
       "    <tr>\n",
       "      <th>9</th>\n",
       "      <td>3.0</td>\n",
       "      <td>2015-02-18 01:15:45</td>\n",
       "      <td>2015-02-18 02:08:57</td>\n",
       "      <td>f0ade77b43923b38237db569b016ba25</td>\n",
       "      <td>NaN</td>\n",
       "      <td>1.0</td>\n",
       "      <td>2</td>\n",
       "      <td>2100</td>\n",
       "      <td>2</td>\n",
       "      <td>700</td>\n",
       "      <td>1200</td>\n",
       "      <td>2.0</td>\n",
       "      <td>2.0</td>\n",
       "      <td>2.0</td>\n",
       "    </tr>\n",
       "    <tr>\n",
       "      <th>10</th>\n",
       "      <td>3.0</td>\n",
       "      <td>2015-02-02 19:22:53</td>\n",
       "      <td>2015-02-02 20:09:19</td>\n",
       "      <td>f0ade77b43923b38237db569b016ba25</td>\n",
       "      <td>NaN</td>\n",
       "      <td>4.0</td>\n",
       "      <td>4</td>\n",
       "      <td>4300</td>\n",
       "      <td>4</td>\n",
       "      <td>1200</td>\n",
       "      <td>1500</td>\n",
       "      <td>1.0</td>\n",
       "      <td>1.0</td>\n",
       "      <td>1.0</td>\n",
       "    </tr>\n",
       "    <tr>\n",
       "      <th>11</th>\n",
       "      <td>3.0</td>\n",
       "      <td>2015-02-16 04:19:33</td>\n",
       "      <td>2015-02-16 06:34:00</td>\n",
       "      <td>f0ade77b43923b38237db569b016ba25</td>\n",
       "      <td>NaN</td>\n",
       "      <td>1.0</td>\n",
       "      <td>2</td>\n",
       "      <td>2200</td>\n",
       "      <td>2</td>\n",
       "      <td>600</td>\n",
       "      <td>1600</td>\n",
       "      <td>3.0</td>\n",
       "      <td>3.0</td>\n",
       "      <td>4.0</td>\n",
       "    </tr>\n",
       "    <tr>\n",
       "      <th>12</th>\n",
       "      <td>3.0</td>\n",
       "      <td>2015-02-07 01:34:31</td>\n",
       "      <td>2015-02-07 02:17:14</td>\n",
       "      <td>f0ade77b43923b38237db569b016ba25</td>\n",
       "      <td>NaN</td>\n",
       "      <td>1.0</td>\n",
       "      <td>1</td>\n",
       "      <td>1900</td>\n",
       "      <td>1</td>\n",
       "      <td>1900</td>\n",
       "      <td>1900</td>\n",
       "      <td>6.0</td>\n",
       "      <td>3.0</td>\n",
       "      <td>3.0</td>\n",
       "    </tr>\n",
       "    <tr>\n",
       "      <th>13</th>\n",
       "      <td>3.0</td>\n",
       "      <td>2015-01-25 01:50:51</td>\n",
       "      <td>2015-01-25 02:28:53</td>\n",
       "      <td>f0ade77b43923b38237db569b016ba25</td>\n",
       "      <td>NaN</td>\n",
       "      <td>4.0</td>\n",
       "      <td>4</td>\n",
       "      <td>4986</td>\n",
       "      <td>4</td>\n",
       "      <td>699</td>\n",
       "      <td>2362</td>\n",
       "      <td>16.0</td>\n",
       "      <td>6.0</td>\n",
       "      <td>9.0</td>\n",
       "    </tr>\n",
       "    <tr>\n",
       "      <th>14</th>\n",
       "      <td>1.0</td>\n",
       "      <td>2015-02-12 03:36:46</td>\n",
       "      <td>2015-02-12 04:14:39</td>\n",
       "      <td>ef1e491a766ce3127556063d49bc2f98</td>\n",
       "      <td>italian</td>\n",
       "      <td>1.0</td>\n",
       "      <td>1</td>\n",
       "      <td>1525</td>\n",
       "      <td>1</td>\n",
       "      <td>1525</td>\n",
       "      <td>1525</td>\n",
       "      <td>5.0</td>\n",
       "      <td>6.0</td>\n",
       "      <td>8.0</td>\n",
       "    </tr>\n",
       "    <tr>\n",
       "      <th>15</th>\n",
       "      <td>1.0</td>\n",
       "      <td>2015-01-27 02:12:36</td>\n",
       "      <td>2015-01-27 03:02:24</td>\n",
       "      <td>ef1e491a766ce3127556063d49bc2f98</td>\n",
       "      <td>italian</td>\n",
       "      <td>1.0</td>\n",
       "      <td>2</td>\n",
       "      <td>3620</td>\n",
       "      <td>2</td>\n",
       "      <td>1425</td>\n",
       "      <td>2195</td>\n",
       "      <td>5.0</td>\n",
       "      <td>5.0</td>\n",
       "      <td>7.0</td>\n",
       "    </tr>\n",
       "    <tr>\n",
       "      <th>16</th>\n",
       "      <td>1.0</td>\n",
       "      <td>2015-02-06 00:42:42</td>\n",
       "      <td>2015-02-06 02:10:29</td>\n",
       "      <td>ef1e491a766ce3127556063d49bc2f98</td>\n",
       "      <td>italian</td>\n",
       "      <td>1.0</td>\n",
       "      <td>3</td>\n",
       "      <td>4475</td>\n",
       "      <td>3</td>\n",
       "      <td>925</td>\n",
       "      <td>1825</td>\n",
       "      <td>4.0</td>\n",
       "      <td>1.0</td>\n",
       "      <td>1.0</td>\n",
       "    </tr>\n",
       "    <tr>\n",
       "      <th>17</th>\n",
       "      <td>1.0</td>\n",
       "      <td>2015-02-08 02:04:17</td>\n",
       "      <td>2015-02-08 03:27:13</td>\n",
       "      <td>ef1e491a766ce3127556063d49bc2f98</td>\n",
       "      <td>italian</td>\n",
       "      <td>1.0</td>\n",
       "      <td>3</td>\n",
       "      <td>4375</td>\n",
       "      <td>3</td>\n",
       "      <td>1325</td>\n",
       "      <td>1625</td>\n",
       "      <td>6.0</td>\n",
       "      <td>4.0</td>\n",
       "      <td>3.0</td>\n",
       "    </tr>\n",
       "    <tr>\n",
       "      <th>18</th>\n",
       "      <td>1.0</td>\n",
       "      <td>2015-01-31 04:35:54</td>\n",
       "      <td>2015-01-31 05:47:30</td>\n",
       "      <td>ef1e491a766ce3127556063d49bc2f98</td>\n",
       "      <td>italian</td>\n",
       "      <td>1.0</td>\n",
       "      <td>2</td>\n",
       "      <td>3150</td>\n",
       "      <td>2</td>\n",
       "      <td>1425</td>\n",
       "      <td>1725</td>\n",
       "      <td>4.0</td>\n",
       "      <td>9.0</td>\n",
       "      <td>12.0</td>\n",
       "    </tr>\n",
       "    <tr>\n",
       "      <th>19</th>\n",
       "      <td>1.0</td>\n",
       "      <td>2015-01-31 02:21:23</td>\n",
       "      <td>2015-01-31 03:11:42</td>\n",
       "      <td>ce016f59ecc2366a43e1c96a4774d167</td>\n",
       "      <td>mexican</td>\n",
       "      <td>1.0</td>\n",
       "      <td>2</td>\n",
       "      <td>950</td>\n",
       "      <td>2</td>\n",
       "      <td>150</td>\n",
       "      <td>700</td>\n",
       "      <td>24.0</td>\n",
       "      <td>24.0</td>\n",
       "      <td>26.0</td>\n",
       "    </tr>\n",
       "  </tbody>\n",
       "</table>\n",
       "</div>\n",
       "      <button class=\"colab-df-convert\" onclick=\"convertToInteractive('df-ac4ba7b9-e757-40bb-9aee-e6e2baa1d8c0')\"\n",
       "              title=\"Convert this dataframe to an interactive table.\"\n",
       "              style=\"display:none;\">\n",
       "        \n",
       "  <svg xmlns=\"http://www.w3.org/2000/svg\" height=\"24px\"viewBox=\"0 0 24 24\"\n",
       "       width=\"24px\">\n",
       "    <path d=\"M0 0h24v24H0V0z\" fill=\"none\"/>\n",
       "    <path d=\"M18.56 5.44l.94 2.06.94-2.06 2.06-.94-2.06-.94-.94-2.06-.94 2.06-2.06.94zm-11 1L8.5 8.5l.94-2.06 2.06-.94-2.06-.94L8.5 2.5l-.94 2.06-2.06.94zm10 10l.94 2.06.94-2.06 2.06-.94-2.06-.94-.94-2.06-.94 2.06-2.06.94z\"/><path d=\"M17.41 7.96l-1.37-1.37c-.4-.4-.92-.59-1.43-.59-.52 0-1.04.2-1.43.59L10.3 9.45l-7.72 7.72c-.78.78-.78 2.05 0 2.83L4 21.41c.39.39.9.59 1.41.59.51 0 1.02-.2 1.41-.59l7.78-7.78 2.81-2.81c.8-.78.8-2.07 0-2.86zM5.41 20L4 18.59l7.72-7.72 1.47 1.35L5.41 20z\"/>\n",
       "  </svg>\n",
       "      </button>\n",
       "      \n",
       "  <style>\n",
       "    .colab-df-container {\n",
       "      display:flex;\n",
       "      flex-wrap:wrap;\n",
       "      gap: 12px;\n",
       "    }\n",
       "\n",
       "    .colab-df-convert {\n",
       "      background-color: #E8F0FE;\n",
       "      border: none;\n",
       "      border-radius: 50%;\n",
       "      cursor: pointer;\n",
       "      display: none;\n",
       "      fill: #1967D2;\n",
       "      height: 32px;\n",
       "      padding: 0 0 0 0;\n",
       "      width: 32px;\n",
       "    }\n",
       "\n",
       "    .colab-df-convert:hover {\n",
       "      background-color: #E2EBFA;\n",
       "      box-shadow: 0px 1px 2px rgba(60, 64, 67, 0.3), 0px 1px 3px 1px rgba(60, 64, 67, 0.15);\n",
       "      fill: #174EA6;\n",
       "    }\n",
       "\n",
       "    [theme=dark] .colab-df-convert {\n",
       "      background-color: #3B4455;\n",
       "      fill: #D2E3FC;\n",
       "    }\n",
       "\n",
       "    [theme=dark] .colab-df-convert:hover {\n",
       "      background-color: #434B5C;\n",
       "      box-shadow: 0px 1px 3px 1px rgba(0, 0, 0, 0.15);\n",
       "      filter: drop-shadow(0px 1px 2px rgba(0, 0, 0, 0.3));\n",
       "      fill: #FFFFFF;\n",
       "    }\n",
       "  </style>\n",
       "\n",
       "      <script>\n",
       "        const buttonEl =\n",
       "          document.querySelector('#df-ac4ba7b9-e757-40bb-9aee-e6e2baa1d8c0 button.colab-df-convert');\n",
       "        buttonEl.style.display =\n",
       "          google.colab.kernel.accessAllowed ? 'block' : 'none';\n",
       "\n",
       "        async function convertToInteractive(key) {\n",
       "          const element = document.querySelector('#df-ac4ba7b9-e757-40bb-9aee-e6e2baa1d8c0');\n",
       "          const dataTable =\n",
       "            await google.colab.kernel.invokeFunction('convertToInteractive',\n",
       "                                                     [key], {});\n",
       "          if (!dataTable) return;\n",
       "\n",
       "          const docLinkHtml = 'Like what you see? Visit the ' +\n",
       "            '<a target=\"_blank\" href=https://colab.research.google.com/notebooks/data_table.ipynb>data table notebook</a>'\n",
       "            + ' to learn more about interactive tables.';\n",
       "          element.innerHTML = '';\n",
       "          dataTable['output_type'] = 'display_data';\n",
       "          await google.colab.output.renderOutput(dataTable, element);\n",
       "          const docLink = document.createElement('div');\n",
       "          docLink.innerHTML = docLinkHtml;\n",
       "          element.appendChild(docLink);\n",
       "        }\n",
       "      </script>\n",
       "    </div>\n",
       "  </div>\n",
       "  "
      ],
      "text/plain": [
       "    market_id           created_at actual_delivery_time  \\\n",
       "0         1.0  2015-02-06 22:24:17  2015-02-06 23:27:16   \n",
       "1         2.0  2015-02-10 21:49:25  2015-02-10 22:56:29   \n",
       "2         3.0  2015-01-22 20:39:28  2015-01-22 21:09:09   \n",
       "3         3.0  2015-02-03 21:21:45  2015-02-03 22:13:00   \n",
       "4         3.0  2015-02-15 02:40:36  2015-02-15 03:20:26   \n",
       "5         3.0  2015-01-28 20:30:38  2015-01-28 21:08:58   \n",
       "6         3.0  2015-01-31 02:16:36  2015-01-31 02:43:00   \n",
       "7         3.0  2015-02-12 03:03:35  2015-02-12 03:36:20   \n",
       "8         2.0  2015-02-16 00:11:35  2015-02-16 00:38:01   \n",
       "9         3.0  2015-02-18 01:15:45  2015-02-18 02:08:57   \n",
       "10        3.0  2015-02-02 19:22:53  2015-02-02 20:09:19   \n",
       "11        3.0  2015-02-16 04:19:33  2015-02-16 06:34:00   \n",
       "12        3.0  2015-02-07 01:34:31  2015-02-07 02:17:14   \n",
       "13        3.0  2015-01-25 01:50:51  2015-01-25 02:28:53   \n",
       "14        1.0  2015-02-12 03:36:46  2015-02-12 04:14:39   \n",
       "15        1.0  2015-01-27 02:12:36  2015-01-27 03:02:24   \n",
       "16        1.0  2015-02-06 00:42:42  2015-02-06 02:10:29   \n",
       "17        1.0  2015-02-08 02:04:17  2015-02-08 03:27:13   \n",
       "18        1.0  2015-01-31 04:35:54  2015-01-31 05:47:30   \n",
       "19        1.0  2015-01-31 02:21:23  2015-01-31 03:11:42   \n",
       "\n",
       "                            store_id store_primary_category  order_protocol  \\\n",
       "0   df263d996281d984952c07998dc54358               american             1.0   \n",
       "1   f0ade77b43923b38237db569b016ba25                mexican             2.0   \n",
       "2   f0ade77b43923b38237db569b016ba25                    NaN             1.0   \n",
       "3   f0ade77b43923b38237db569b016ba25                    NaN             1.0   \n",
       "4   f0ade77b43923b38237db569b016ba25                    NaN             1.0   \n",
       "5   f0ade77b43923b38237db569b016ba25                    NaN             1.0   \n",
       "6   f0ade77b43923b38237db569b016ba25                    NaN             1.0   \n",
       "7   f0ade77b43923b38237db569b016ba25                    NaN             1.0   \n",
       "8   f0ade77b43923b38237db569b016ba25                 indian             3.0   \n",
       "9   f0ade77b43923b38237db569b016ba25                    NaN             1.0   \n",
       "10  f0ade77b43923b38237db569b016ba25                    NaN             4.0   \n",
       "11  f0ade77b43923b38237db569b016ba25                    NaN             1.0   \n",
       "12  f0ade77b43923b38237db569b016ba25                    NaN             1.0   \n",
       "13  f0ade77b43923b38237db569b016ba25                    NaN             4.0   \n",
       "14  ef1e491a766ce3127556063d49bc2f98                italian             1.0   \n",
       "15  ef1e491a766ce3127556063d49bc2f98                italian             1.0   \n",
       "16  ef1e491a766ce3127556063d49bc2f98                italian             1.0   \n",
       "17  ef1e491a766ce3127556063d49bc2f98                italian             1.0   \n",
       "18  ef1e491a766ce3127556063d49bc2f98                italian             1.0   \n",
       "19  ce016f59ecc2366a43e1c96a4774d167                mexican             1.0   \n",
       "\n",
       "    total_items  subtotal  num_distinct_items  min_item_price  max_item_price  \\\n",
       "0             4      3441                   4             557            1239   \n",
       "1             1      1900                   1            1400            1400   \n",
       "2             1      1900                   1            1900            1900   \n",
       "3             6      6900                   5             600            1800   \n",
       "4             3      3900                   3            1100            1600   \n",
       "5             3      5000                   3            1500            1900   \n",
       "6             2      3900                   2            1200            2700   \n",
       "7             4      4850                   4             750            1800   \n",
       "8             4      4771                   3             820            1604   \n",
       "9             2      2100                   2             700            1200   \n",
       "10            4      4300                   4            1200            1500   \n",
       "11            2      2200                   2             600            1600   \n",
       "12            1      1900                   1            1900            1900   \n",
       "13            4      4986                   4             699            2362   \n",
       "14            1      1525                   1            1525            1525   \n",
       "15            2      3620                   2            1425            2195   \n",
       "16            3      4475                   3             925            1825   \n",
       "17            3      4375                   3            1325            1625   \n",
       "18            2      3150                   2            1425            1725   \n",
       "19            2       950                   2             150             700   \n",
       "\n",
       "    total_onshift_partners  total_busy_partners  total_outstanding_orders  \n",
       "0                     33.0                 14.0                      21.0  \n",
       "1                      1.0                  2.0                       2.0  \n",
       "2                      1.0                  0.0                       0.0  \n",
       "3                      1.0                  1.0                       2.0  \n",
       "4                      6.0                  6.0                       9.0  \n",
       "5                      2.0                  2.0                       2.0  \n",
       "6                     10.0                  9.0                       9.0  \n",
       "7                      7.0                  8.0                       7.0  \n",
       "8                      8.0                  6.0                      18.0  \n",
       "9                      2.0                  2.0                       2.0  \n",
       "10                     1.0                  1.0                       1.0  \n",
       "11                     3.0                  3.0                       4.0  \n",
       "12                     6.0                  3.0                       3.0  \n",
       "13                    16.0                  6.0                       9.0  \n",
       "14                     5.0                  6.0                       8.0  \n",
       "15                     5.0                  5.0                       7.0  \n",
       "16                     4.0                  1.0                       1.0  \n",
       "17                     6.0                  4.0                       3.0  \n",
       "18                     4.0                  9.0                      12.0  \n",
       "19                    24.0                 24.0                      26.0  "
      ]
     },
     "execution_count": 54,
     "metadata": {},
     "output_type": "execute_result"
    }
   ],
   "source": [
    "df.head(20)"
   ]
  },
  {
   "cell_type": "code",
   "execution_count": 55,
   "metadata": {
    "colab": {
     "base_uri": "https://localhost:8080/",
     "height": 0
    },
    "id": "GNGY9ym4AZJd",
    "outputId": "41fb89ce-6cc7-4a65-eefa-d7c259ecf304"
   },
   "outputs": [
    {
     "data": {
      "text/plain": [
       "(7,)"
      ]
     },
     "execution_count": 55,
     "metadata": {},
     "output_type": "execute_result"
    }
   ],
   "source": [
    "df.market_id.unique().shape"
   ]
  },
  {
   "cell_type": "code",
   "execution_count": 56,
   "metadata": {
    "colab": {
     "base_uri": "https://localhost:8080/",
     "height": 0
    },
    "id": "8OcyP9AcAqdz",
    "outputId": "f5085761-ea74-4be2-8434-966140ac340d"
   },
   "outputs": [
    {
     "data": {
      "text/plain": [
       "(6743,)"
      ]
     },
     "execution_count": 56,
     "metadata": {},
     "output_type": "execute_result"
    }
   ],
   "source": [
    "df.store_id.unique().shape"
   ]
  },
  {
   "cell_type": "code",
   "execution_count": 57,
   "metadata": {
    "colab": {
     "base_uri": "https://localhost:8080/",
     "height": 0
    },
    "id": "s5quBDCfAt0z",
    "outputId": "0cceb84f-0c98-4831-e72d-a5ffb554cda9"
   },
   "outputs": [
    {
     "name": "stdout",
     "output_type": "stream",
     "text": [
      "<class 'pandas.core.frame.DataFrame'>\n",
      "RangeIndex: 197428 entries, 0 to 197427\n",
      "Data columns (total 14 columns):\n",
      " #   Column                    Non-Null Count   Dtype  \n",
      "---  ------                    --------------   -----  \n",
      " 0   market_id                 196441 non-null  float64\n",
      " 1   created_at                197428 non-null  object \n",
      " 2   actual_delivery_time      197421 non-null  object \n",
      " 3   store_id                  197428 non-null  object \n",
      " 4   store_primary_category    192668 non-null  object \n",
      " 5   order_protocol            196433 non-null  float64\n",
      " 6   total_items               197428 non-null  int64  \n",
      " 7   subtotal                  197428 non-null  int64  \n",
      " 8   num_distinct_items        197428 non-null  int64  \n",
      " 9   min_item_price            197428 non-null  int64  \n",
      " 10  max_item_price            197428 non-null  int64  \n",
      " 11  total_onshift_partners    181166 non-null  float64\n",
      " 12  total_busy_partners       181166 non-null  float64\n",
      " 13  total_outstanding_orders  181166 non-null  float64\n",
      "dtypes: float64(5), int64(5), object(4)\n",
      "memory usage: 21.1+ MB\n"
     ]
    }
   ],
   "source": [
    "df.info()"
   ]
  },
  {
   "cell_type": "code",
   "execution_count": 58,
   "metadata": {
    "colab": {
     "base_uri": "https://localhost:8080/",
     "height": 0
    },
    "id": "efGgkY5YdIWV",
    "outputId": "26307f59-ab66-41ae-ce4f-6093b25ad9a3"
   },
   "outputs": [
    {
     "name": "stdout",
     "output_type": "stream",
     "text": [
      "<class 'pandas.core.frame.DataFrame'>\n",
      "RangeIndex: 197428 entries, 0 to 197427\n",
      "Data columns (total 14 columns):\n",
      " #   Column                    Non-Null Count   Dtype  \n",
      "---  ------                    --------------   -----  \n",
      " 0   market_id                 196441 non-null  float64\n",
      " 1   created_at                197428 non-null  object \n",
      " 2   actual_delivery_time      197421 non-null  object \n",
      " 3   store_id                  197428 non-null  object \n",
      " 4   store_primary_category    192668 non-null  object \n",
      " 5   order_protocol            196433 non-null  float64\n",
      " 6   total_items               197428 non-null  int64  \n",
      " 7   subtotal                  197428 non-null  int64  \n",
      " 8   num_distinct_items        197428 non-null  int64  \n",
      " 9   min_item_price            197428 non-null  int64  \n",
      " 10  max_item_price            197428 non-null  int64  \n",
      " 11  total_onshift_partners    181166 non-null  float64\n",
      " 12  total_busy_partners       181166 non-null  float64\n",
      " 13  total_outstanding_orders  181166 non-null  float64\n",
      "dtypes: float64(5), int64(5), object(4)\n",
      "memory usage: 21.1+ MB\n"
     ]
    }
   ],
   "source": [
    "df.info()"
   ]
  },
  {
   "cell_type": "markdown",
   "metadata": {
    "id": "n_mM5pKpAyTG"
   },
   "source": [
    "Removing null value rows"
   ]
  },
  {
   "cell_type": "code",
   "execution_count": 59,
   "metadata": {
    "id": "pmIIHPg_1iJ5"
   },
   "outputs": [],
   "source": [
    "df.dropna(inplace=True)"
   ]
  },
  {
   "cell_type": "markdown",
   "metadata": {
    "id": "kQRLUhs5A3zx"
   },
   "source": [
    "**Calulating Delivery Time based on order created and delivered time stamps**"
   ]
  },
  {
   "cell_type": "code",
   "execution_count": 60,
   "metadata": {
    "colab": {
     "base_uri": "https://localhost:8080/",
     "height": 601
    },
    "id": "KrjiFEWkDK_0",
    "outputId": "c026a621-914f-465e-9ae7-2e44ea0930a4"
   },
   "outputs": [
    {
     "data": {
      "text/html": [
       "\n",
       "  <div id=\"df-27c06bbe-b0d1-4bf0-815f-237214cec12b\">\n",
       "    <div class=\"colab-df-container\">\n",
       "      <div>\n",
       "<style scoped>\n",
       "    .dataframe tbody tr th:only-of-type {\n",
       "        vertical-align: middle;\n",
       "    }\n",
       "\n",
       "    .dataframe tbody tr th {\n",
       "        vertical-align: top;\n",
       "    }\n",
       "\n",
       "    .dataframe thead th {\n",
       "        text-align: right;\n",
       "    }\n",
       "</style>\n",
       "<table border=\"1\" class=\"dataframe\">\n",
       "  <thead>\n",
       "    <tr style=\"text-align: right;\">\n",
       "      <th></th>\n",
       "      <th>market_id</th>\n",
       "      <th>created_at</th>\n",
       "      <th>actual_delivery_time</th>\n",
       "      <th>store_id</th>\n",
       "      <th>store_primary_category</th>\n",
       "      <th>order_protocol</th>\n",
       "      <th>total_items</th>\n",
       "      <th>subtotal</th>\n",
       "      <th>num_distinct_items</th>\n",
       "      <th>min_item_price</th>\n",
       "      <th>max_item_price</th>\n",
       "      <th>total_onshift_partners</th>\n",
       "      <th>total_busy_partners</th>\n",
       "      <th>total_outstanding_orders</th>\n",
       "      <th>delivery_time</th>\n",
       "    </tr>\n",
       "  </thead>\n",
       "  <tbody>\n",
       "    <tr>\n",
       "      <th>0</th>\n",
       "      <td>1.0</td>\n",
       "      <td>2015-02-06 22:24:17</td>\n",
       "      <td>2015-02-06 23:27:16</td>\n",
       "      <td>df263d996281d984952c07998dc54358</td>\n",
       "      <td>american</td>\n",
       "      <td>1.0</td>\n",
       "      <td>4</td>\n",
       "      <td>3441</td>\n",
       "      <td>4</td>\n",
       "      <td>557</td>\n",
       "      <td>1239</td>\n",
       "      <td>33.0</td>\n",
       "      <td>14.0</td>\n",
       "      <td>21.0</td>\n",
       "      <td>63.0</td>\n",
       "    </tr>\n",
       "    <tr>\n",
       "      <th>1</th>\n",
       "      <td>2.0</td>\n",
       "      <td>2015-02-10 21:49:25</td>\n",
       "      <td>2015-02-10 22:56:29</td>\n",
       "      <td>f0ade77b43923b38237db569b016ba25</td>\n",
       "      <td>mexican</td>\n",
       "      <td>2.0</td>\n",
       "      <td>1</td>\n",
       "      <td>1900</td>\n",
       "      <td>1</td>\n",
       "      <td>1400</td>\n",
       "      <td>1400</td>\n",
       "      <td>1.0</td>\n",
       "      <td>2.0</td>\n",
       "      <td>2.0</td>\n",
       "      <td>67.0</td>\n",
       "    </tr>\n",
       "    <tr>\n",
       "      <th>8</th>\n",
       "      <td>2.0</td>\n",
       "      <td>2015-02-16 00:11:35</td>\n",
       "      <td>2015-02-16 00:38:01</td>\n",
       "      <td>f0ade77b43923b38237db569b016ba25</td>\n",
       "      <td>indian</td>\n",
       "      <td>3.0</td>\n",
       "      <td>4</td>\n",
       "      <td>4771</td>\n",
       "      <td>3</td>\n",
       "      <td>820</td>\n",
       "      <td>1604</td>\n",
       "      <td>8.0</td>\n",
       "      <td>6.0</td>\n",
       "      <td>18.0</td>\n",
       "      <td>26.0</td>\n",
       "    </tr>\n",
       "    <tr>\n",
       "      <th>14</th>\n",
       "      <td>1.0</td>\n",
       "      <td>2015-02-12 03:36:46</td>\n",
       "      <td>2015-02-12 04:14:39</td>\n",
       "      <td>ef1e491a766ce3127556063d49bc2f98</td>\n",
       "      <td>italian</td>\n",
       "      <td>1.0</td>\n",
       "      <td>1</td>\n",
       "      <td>1525</td>\n",
       "      <td>1</td>\n",
       "      <td>1525</td>\n",
       "      <td>1525</td>\n",
       "      <td>5.0</td>\n",
       "      <td>6.0</td>\n",
       "      <td>8.0</td>\n",
       "      <td>38.0</td>\n",
       "    </tr>\n",
       "    <tr>\n",
       "      <th>15</th>\n",
       "      <td>1.0</td>\n",
       "      <td>2015-01-27 02:12:36</td>\n",
       "      <td>2015-01-27 03:02:24</td>\n",
       "      <td>ef1e491a766ce3127556063d49bc2f98</td>\n",
       "      <td>italian</td>\n",
       "      <td>1.0</td>\n",
       "      <td>2</td>\n",
       "      <td>3620</td>\n",
       "      <td>2</td>\n",
       "      <td>1425</td>\n",
       "      <td>2195</td>\n",
       "      <td>5.0</td>\n",
       "      <td>5.0</td>\n",
       "      <td>7.0</td>\n",
       "      <td>50.0</td>\n",
       "    </tr>\n",
       "    <tr>\n",
       "      <th>16</th>\n",
       "      <td>1.0</td>\n",
       "      <td>2015-02-06 00:42:42</td>\n",
       "      <td>2015-02-06 02:10:29</td>\n",
       "      <td>ef1e491a766ce3127556063d49bc2f98</td>\n",
       "      <td>italian</td>\n",
       "      <td>1.0</td>\n",
       "      <td>3</td>\n",
       "      <td>4475</td>\n",
       "      <td>3</td>\n",
       "      <td>925</td>\n",
       "      <td>1825</td>\n",
       "      <td>4.0</td>\n",
       "      <td>1.0</td>\n",
       "      <td>1.0</td>\n",
       "      <td>88.0</td>\n",
       "    </tr>\n",
       "    <tr>\n",
       "      <th>17</th>\n",
       "      <td>1.0</td>\n",
       "      <td>2015-02-08 02:04:17</td>\n",
       "      <td>2015-02-08 03:27:13</td>\n",
       "      <td>ef1e491a766ce3127556063d49bc2f98</td>\n",
       "      <td>italian</td>\n",
       "      <td>1.0</td>\n",
       "      <td>3</td>\n",
       "      <td>4375</td>\n",
       "      <td>3</td>\n",
       "      <td>1325</td>\n",
       "      <td>1625</td>\n",
       "      <td>6.0</td>\n",
       "      <td>4.0</td>\n",
       "      <td>3.0</td>\n",
       "      <td>83.0</td>\n",
       "    </tr>\n",
       "    <tr>\n",
       "      <th>18</th>\n",
       "      <td>1.0</td>\n",
       "      <td>2015-01-31 04:35:54</td>\n",
       "      <td>2015-01-31 05:47:30</td>\n",
       "      <td>ef1e491a766ce3127556063d49bc2f98</td>\n",
       "      <td>italian</td>\n",
       "      <td>1.0</td>\n",
       "      <td>2</td>\n",
       "      <td>3150</td>\n",
       "      <td>2</td>\n",
       "      <td>1425</td>\n",
       "      <td>1725</td>\n",
       "      <td>4.0</td>\n",
       "      <td>9.0</td>\n",
       "      <td>12.0</td>\n",
       "      <td>72.0</td>\n",
       "    </tr>\n",
       "    <tr>\n",
       "      <th>19</th>\n",
       "      <td>1.0</td>\n",
       "      <td>2015-01-31 02:21:23</td>\n",
       "      <td>2015-01-31 03:11:42</td>\n",
       "      <td>ce016f59ecc2366a43e1c96a4774d167</td>\n",
       "      <td>mexican</td>\n",
       "      <td>1.0</td>\n",
       "      <td>2</td>\n",
       "      <td>950</td>\n",
       "      <td>2</td>\n",
       "      <td>150</td>\n",
       "      <td>700</td>\n",
       "      <td>24.0</td>\n",
       "      <td>24.0</td>\n",
       "      <td>26.0</td>\n",
       "      <td>50.0</td>\n",
       "    </tr>\n",
       "    <tr>\n",
       "      <th>20</th>\n",
       "      <td>1.0</td>\n",
       "      <td>2015-01-31 23:45:12</td>\n",
       "      <td>2015-02-01 00:14:05</td>\n",
       "      <td>ce016f59ecc2366a43e1c96a4774d167</td>\n",
       "      <td>mexican</td>\n",
       "      <td>1.0</td>\n",
       "      <td>5</td>\n",
       "      <td>1285</td>\n",
       "      <td>3</td>\n",
       "      <td>150</td>\n",
       "      <td>400</td>\n",
       "      <td>12.0</td>\n",
       "      <td>13.0</td>\n",
       "      <td>11.0</td>\n",
       "      <td>29.0</td>\n",
       "    </tr>\n",
       "  </tbody>\n",
       "</table>\n",
       "</div>\n",
       "      <button class=\"colab-df-convert\" onclick=\"convertToInteractive('df-27c06bbe-b0d1-4bf0-815f-237214cec12b')\"\n",
       "              title=\"Convert this dataframe to an interactive table.\"\n",
       "              style=\"display:none;\">\n",
       "        \n",
       "  <svg xmlns=\"http://www.w3.org/2000/svg\" height=\"24px\"viewBox=\"0 0 24 24\"\n",
       "       width=\"24px\">\n",
       "    <path d=\"M0 0h24v24H0V0z\" fill=\"none\"/>\n",
       "    <path d=\"M18.56 5.44l.94 2.06.94-2.06 2.06-.94-2.06-.94-.94-2.06-.94 2.06-2.06.94zm-11 1L8.5 8.5l.94-2.06 2.06-.94-2.06-.94L8.5 2.5l-.94 2.06-2.06.94zm10 10l.94 2.06.94-2.06 2.06-.94-2.06-.94-.94-2.06-.94 2.06-2.06.94z\"/><path d=\"M17.41 7.96l-1.37-1.37c-.4-.4-.92-.59-1.43-.59-.52 0-1.04.2-1.43.59L10.3 9.45l-7.72 7.72c-.78.78-.78 2.05 0 2.83L4 21.41c.39.39.9.59 1.41.59.51 0 1.02-.2 1.41-.59l7.78-7.78 2.81-2.81c.8-.78.8-2.07 0-2.86zM5.41 20L4 18.59l7.72-7.72 1.47 1.35L5.41 20z\"/>\n",
       "  </svg>\n",
       "      </button>\n",
       "      \n",
       "  <style>\n",
       "    .colab-df-container {\n",
       "      display:flex;\n",
       "      flex-wrap:wrap;\n",
       "      gap: 12px;\n",
       "    }\n",
       "\n",
       "    .colab-df-convert {\n",
       "      background-color: #E8F0FE;\n",
       "      border: none;\n",
       "      border-radius: 50%;\n",
       "      cursor: pointer;\n",
       "      display: none;\n",
       "      fill: #1967D2;\n",
       "      height: 32px;\n",
       "      padding: 0 0 0 0;\n",
       "      width: 32px;\n",
       "    }\n",
       "\n",
       "    .colab-df-convert:hover {\n",
       "      background-color: #E2EBFA;\n",
       "      box-shadow: 0px 1px 2px rgba(60, 64, 67, 0.3), 0px 1px 3px 1px rgba(60, 64, 67, 0.15);\n",
       "      fill: #174EA6;\n",
       "    }\n",
       "\n",
       "    [theme=dark] .colab-df-convert {\n",
       "      background-color: #3B4455;\n",
       "      fill: #D2E3FC;\n",
       "    }\n",
       "\n",
       "    [theme=dark] .colab-df-convert:hover {\n",
       "      background-color: #434B5C;\n",
       "      box-shadow: 0px 1px 3px 1px rgba(0, 0, 0, 0.15);\n",
       "      filter: drop-shadow(0px 1px 2px rgba(0, 0, 0, 0.3));\n",
       "      fill: #FFFFFF;\n",
       "    }\n",
       "  </style>\n",
       "\n",
       "      <script>\n",
       "        const buttonEl =\n",
       "          document.querySelector('#df-27c06bbe-b0d1-4bf0-815f-237214cec12b button.colab-df-convert');\n",
       "        buttonEl.style.display =\n",
       "          google.colab.kernel.accessAllowed ? 'block' : 'none';\n",
       "\n",
       "        async function convertToInteractive(key) {\n",
       "          const element = document.querySelector('#df-27c06bbe-b0d1-4bf0-815f-237214cec12b');\n",
       "          const dataTable =\n",
       "            await google.colab.kernel.invokeFunction('convertToInteractive',\n",
       "                                                     [key], {});\n",
       "          if (!dataTable) return;\n",
       "\n",
       "          const docLinkHtml = 'Like what you see? Visit the ' +\n",
       "            '<a target=\"_blank\" href=https://colab.research.google.com/notebooks/data_table.ipynb>data table notebook</a>'\n",
       "            + ' to learn more about interactive tables.';\n",
       "          element.innerHTML = '';\n",
       "          dataTable['output_type'] = 'display_data';\n",
       "          await google.colab.output.renderOutput(dataTable, element);\n",
       "          const docLink = document.createElement('div');\n",
       "          docLink.innerHTML = docLinkHtml;\n",
       "          element.appendChild(docLink);\n",
       "        }\n",
       "      </script>\n",
       "    </div>\n",
       "  </div>\n",
       "  "
      ],
      "text/plain": [
       "    market_id           created_at actual_delivery_time  \\\n",
       "0         1.0  2015-02-06 22:24:17  2015-02-06 23:27:16   \n",
       "1         2.0  2015-02-10 21:49:25  2015-02-10 22:56:29   \n",
       "8         2.0  2015-02-16 00:11:35  2015-02-16 00:38:01   \n",
       "14        1.0  2015-02-12 03:36:46  2015-02-12 04:14:39   \n",
       "15        1.0  2015-01-27 02:12:36  2015-01-27 03:02:24   \n",
       "16        1.0  2015-02-06 00:42:42  2015-02-06 02:10:29   \n",
       "17        1.0  2015-02-08 02:04:17  2015-02-08 03:27:13   \n",
       "18        1.0  2015-01-31 04:35:54  2015-01-31 05:47:30   \n",
       "19        1.0  2015-01-31 02:21:23  2015-01-31 03:11:42   \n",
       "20        1.0  2015-01-31 23:45:12  2015-02-01 00:14:05   \n",
       "\n",
       "                            store_id store_primary_category  order_protocol  \\\n",
       "0   df263d996281d984952c07998dc54358               american             1.0   \n",
       "1   f0ade77b43923b38237db569b016ba25                mexican             2.0   \n",
       "8   f0ade77b43923b38237db569b016ba25                 indian             3.0   \n",
       "14  ef1e491a766ce3127556063d49bc2f98                italian             1.0   \n",
       "15  ef1e491a766ce3127556063d49bc2f98                italian             1.0   \n",
       "16  ef1e491a766ce3127556063d49bc2f98                italian             1.0   \n",
       "17  ef1e491a766ce3127556063d49bc2f98                italian             1.0   \n",
       "18  ef1e491a766ce3127556063d49bc2f98                italian             1.0   \n",
       "19  ce016f59ecc2366a43e1c96a4774d167                mexican             1.0   \n",
       "20  ce016f59ecc2366a43e1c96a4774d167                mexican             1.0   \n",
       "\n",
       "    total_items  subtotal  num_distinct_items  min_item_price  max_item_price  \\\n",
       "0             4      3441                   4             557            1239   \n",
       "1             1      1900                   1            1400            1400   \n",
       "8             4      4771                   3             820            1604   \n",
       "14            1      1525                   1            1525            1525   \n",
       "15            2      3620                   2            1425            2195   \n",
       "16            3      4475                   3             925            1825   \n",
       "17            3      4375                   3            1325            1625   \n",
       "18            2      3150                   2            1425            1725   \n",
       "19            2       950                   2             150             700   \n",
       "20            5      1285                   3             150             400   \n",
       "\n",
       "    total_onshift_partners  total_busy_partners  total_outstanding_orders  \\\n",
       "0                     33.0                 14.0                      21.0   \n",
       "1                      1.0                  2.0                       2.0   \n",
       "8                      8.0                  6.0                      18.0   \n",
       "14                     5.0                  6.0                       8.0   \n",
       "15                     5.0                  5.0                       7.0   \n",
       "16                     4.0                  1.0                       1.0   \n",
       "17                     6.0                  4.0                       3.0   \n",
       "18                     4.0                  9.0                      12.0   \n",
       "19                    24.0                 24.0                      26.0   \n",
       "20                    12.0                 13.0                      11.0   \n",
       "\n",
       "    delivery_time  \n",
       "0            63.0  \n",
       "1            67.0  \n",
       "8            26.0  \n",
       "14           38.0  \n",
       "15           50.0  \n",
       "16           88.0  \n",
       "17           83.0  \n",
       "18           72.0  \n",
       "19           50.0  \n",
       "20           29.0  "
      ]
     },
     "execution_count": 60,
     "metadata": {},
     "output_type": "execute_result"
    }
   ],
   "source": [
    "df['delivery_time'] = ((pd.to_datetime(df['actual_delivery_time'])-pd.to_datetime(df['created_at']))/np.timedelta64(1,'m')).round(0)\n",
    "\n",
    "df.head(10)"
   ]
  },
  {
   "cell_type": "markdown",
   "metadata": {
    "id": "vd1znOZfBDpS"
   },
   "source": [
    "**Extracting hour and dayofweek from order created timestamp**"
   ]
  },
  {
   "cell_type": "code",
   "execution_count": 61,
   "metadata": {
    "id": "H2DTaJhjfeVF"
   },
   "outputs": [],
   "source": [
    "import datetime as dt\n",
    "df['hour'] = pd.to_datetime(df['created_at']).dt.hour\n",
    "df['dayofweek'] = pd.to_datetime(df['created_at']).dt.dayofweek"
   ]
  },
  {
   "cell_type": "code",
   "execution_count": 62,
   "metadata": {
    "colab": {
     "base_uri": "https://localhost:8080/",
     "height": 357
    },
    "id": "8EUxCQXofwHu",
    "outputId": "8116d98d-fe36-4df1-afc5-a1cc6442ec3e"
   },
   "outputs": [
    {
     "data": {
      "text/html": [
       "\n",
       "  <div id=\"df-695f1b20-f44a-4d34-af77-d356a278bc60\">\n",
       "    <div class=\"colab-df-container\">\n",
       "      <div>\n",
       "<style scoped>\n",
       "    .dataframe tbody tr th:only-of-type {\n",
       "        vertical-align: middle;\n",
       "    }\n",
       "\n",
       "    .dataframe tbody tr th {\n",
       "        vertical-align: top;\n",
       "    }\n",
       "\n",
       "    .dataframe thead th {\n",
       "        text-align: right;\n",
       "    }\n",
       "</style>\n",
       "<table border=\"1\" class=\"dataframe\">\n",
       "  <thead>\n",
       "    <tr style=\"text-align: right;\">\n",
       "      <th></th>\n",
       "      <th>market_id</th>\n",
       "      <th>created_at</th>\n",
       "      <th>actual_delivery_time</th>\n",
       "      <th>store_id</th>\n",
       "      <th>store_primary_category</th>\n",
       "      <th>order_protocol</th>\n",
       "      <th>total_items</th>\n",
       "      <th>subtotal</th>\n",
       "      <th>num_distinct_items</th>\n",
       "      <th>min_item_price</th>\n",
       "      <th>max_item_price</th>\n",
       "      <th>total_onshift_partners</th>\n",
       "      <th>total_busy_partners</th>\n",
       "      <th>total_outstanding_orders</th>\n",
       "      <th>delivery_time</th>\n",
       "      <th>hour</th>\n",
       "      <th>dayofweek</th>\n",
       "    </tr>\n",
       "  </thead>\n",
       "  <tbody>\n",
       "    <tr>\n",
       "      <th>0</th>\n",
       "      <td>1.0</td>\n",
       "      <td>2015-02-06 22:24:17</td>\n",
       "      <td>2015-02-06 23:27:16</td>\n",
       "      <td>df263d996281d984952c07998dc54358</td>\n",
       "      <td>american</td>\n",
       "      <td>1.0</td>\n",
       "      <td>4</td>\n",
       "      <td>3441</td>\n",
       "      <td>4</td>\n",
       "      <td>557</td>\n",
       "      <td>1239</td>\n",
       "      <td>33.0</td>\n",
       "      <td>14.0</td>\n",
       "      <td>21.0</td>\n",
       "      <td>63.0</td>\n",
       "      <td>22</td>\n",
       "      <td>4</td>\n",
       "    </tr>\n",
       "    <tr>\n",
       "      <th>1</th>\n",
       "      <td>2.0</td>\n",
       "      <td>2015-02-10 21:49:25</td>\n",
       "      <td>2015-02-10 22:56:29</td>\n",
       "      <td>f0ade77b43923b38237db569b016ba25</td>\n",
       "      <td>mexican</td>\n",
       "      <td>2.0</td>\n",
       "      <td>1</td>\n",
       "      <td>1900</td>\n",
       "      <td>1</td>\n",
       "      <td>1400</td>\n",
       "      <td>1400</td>\n",
       "      <td>1.0</td>\n",
       "      <td>2.0</td>\n",
       "      <td>2.0</td>\n",
       "      <td>67.0</td>\n",
       "      <td>21</td>\n",
       "      <td>1</td>\n",
       "    </tr>\n",
       "    <tr>\n",
       "      <th>8</th>\n",
       "      <td>2.0</td>\n",
       "      <td>2015-02-16 00:11:35</td>\n",
       "      <td>2015-02-16 00:38:01</td>\n",
       "      <td>f0ade77b43923b38237db569b016ba25</td>\n",
       "      <td>indian</td>\n",
       "      <td>3.0</td>\n",
       "      <td>4</td>\n",
       "      <td>4771</td>\n",
       "      <td>3</td>\n",
       "      <td>820</td>\n",
       "      <td>1604</td>\n",
       "      <td>8.0</td>\n",
       "      <td>6.0</td>\n",
       "      <td>18.0</td>\n",
       "      <td>26.0</td>\n",
       "      <td>0</td>\n",
       "      <td>0</td>\n",
       "    </tr>\n",
       "    <tr>\n",
       "      <th>14</th>\n",
       "      <td>1.0</td>\n",
       "      <td>2015-02-12 03:36:46</td>\n",
       "      <td>2015-02-12 04:14:39</td>\n",
       "      <td>ef1e491a766ce3127556063d49bc2f98</td>\n",
       "      <td>italian</td>\n",
       "      <td>1.0</td>\n",
       "      <td>1</td>\n",
       "      <td>1525</td>\n",
       "      <td>1</td>\n",
       "      <td>1525</td>\n",
       "      <td>1525</td>\n",
       "      <td>5.0</td>\n",
       "      <td>6.0</td>\n",
       "      <td>8.0</td>\n",
       "      <td>38.0</td>\n",
       "      <td>3</td>\n",
       "      <td>3</td>\n",
       "    </tr>\n",
       "    <tr>\n",
       "      <th>15</th>\n",
       "      <td>1.0</td>\n",
       "      <td>2015-01-27 02:12:36</td>\n",
       "      <td>2015-01-27 03:02:24</td>\n",
       "      <td>ef1e491a766ce3127556063d49bc2f98</td>\n",
       "      <td>italian</td>\n",
       "      <td>1.0</td>\n",
       "      <td>2</td>\n",
       "      <td>3620</td>\n",
       "      <td>2</td>\n",
       "      <td>1425</td>\n",
       "      <td>2195</td>\n",
       "      <td>5.0</td>\n",
       "      <td>5.0</td>\n",
       "      <td>7.0</td>\n",
       "      <td>50.0</td>\n",
       "      <td>2</td>\n",
       "      <td>1</td>\n",
       "    </tr>\n",
       "  </tbody>\n",
       "</table>\n",
       "</div>\n",
       "      <button class=\"colab-df-convert\" onclick=\"convertToInteractive('df-695f1b20-f44a-4d34-af77-d356a278bc60')\"\n",
       "              title=\"Convert this dataframe to an interactive table.\"\n",
       "              style=\"display:none;\">\n",
       "        \n",
       "  <svg xmlns=\"http://www.w3.org/2000/svg\" height=\"24px\"viewBox=\"0 0 24 24\"\n",
       "       width=\"24px\">\n",
       "    <path d=\"M0 0h24v24H0V0z\" fill=\"none\"/>\n",
       "    <path d=\"M18.56 5.44l.94 2.06.94-2.06 2.06-.94-2.06-.94-.94-2.06-.94 2.06-2.06.94zm-11 1L8.5 8.5l.94-2.06 2.06-.94-2.06-.94L8.5 2.5l-.94 2.06-2.06.94zm10 10l.94 2.06.94-2.06 2.06-.94-2.06-.94-.94-2.06-.94 2.06-2.06.94z\"/><path d=\"M17.41 7.96l-1.37-1.37c-.4-.4-.92-.59-1.43-.59-.52 0-1.04.2-1.43.59L10.3 9.45l-7.72 7.72c-.78.78-.78 2.05 0 2.83L4 21.41c.39.39.9.59 1.41.59.51 0 1.02-.2 1.41-.59l7.78-7.78 2.81-2.81c.8-.78.8-2.07 0-2.86zM5.41 20L4 18.59l7.72-7.72 1.47 1.35L5.41 20z\"/>\n",
       "  </svg>\n",
       "      </button>\n",
       "      \n",
       "  <style>\n",
       "    .colab-df-container {\n",
       "      display:flex;\n",
       "      flex-wrap:wrap;\n",
       "      gap: 12px;\n",
       "    }\n",
       "\n",
       "    .colab-df-convert {\n",
       "      background-color: #E8F0FE;\n",
       "      border: none;\n",
       "      border-radius: 50%;\n",
       "      cursor: pointer;\n",
       "      display: none;\n",
       "      fill: #1967D2;\n",
       "      height: 32px;\n",
       "      padding: 0 0 0 0;\n",
       "      width: 32px;\n",
       "    }\n",
       "\n",
       "    .colab-df-convert:hover {\n",
       "      background-color: #E2EBFA;\n",
       "      box-shadow: 0px 1px 2px rgba(60, 64, 67, 0.3), 0px 1px 3px 1px rgba(60, 64, 67, 0.15);\n",
       "      fill: #174EA6;\n",
       "    }\n",
       "\n",
       "    [theme=dark] .colab-df-convert {\n",
       "      background-color: #3B4455;\n",
       "      fill: #D2E3FC;\n",
       "    }\n",
       "\n",
       "    [theme=dark] .colab-df-convert:hover {\n",
       "      background-color: #434B5C;\n",
       "      box-shadow: 0px 1px 3px 1px rgba(0, 0, 0, 0.15);\n",
       "      filter: drop-shadow(0px 1px 2px rgba(0, 0, 0, 0.3));\n",
       "      fill: #FFFFFF;\n",
       "    }\n",
       "  </style>\n",
       "\n",
       "      <script>\n",
       "        const buttonEl =\n",
       "          document.querySelector('#df-695f1b20-f44a-4d34-af77-d356a278bc60 button.colab-df-convert');\n",
       "        buttonEl.style.display =\n",
       "          google.colab.kernel.accessAllowed ? 'block' : 'none';\n",
       "\n",
       "        async function convertToInteractive(key) {\n",
       "          const element = document.querySelector('#df-695f1b20-f44a-4d34-af77-d356a278bc60');\n",
       "          const dataTable =\n",
       "            await google.colab.kernel.invokeFunction('convertToInteractive',\n",
       "                                                     [key], {});\n",
       "          if (!dataTable) return;\n",
       "\n",
       "          const docLinkHtml = 'Like what you see? Visit the ' +\n",
       "            '<a target=\"_blank\" href=https://colab.research.google.com/notebooks/data_table.ipynb>data table notebook</a>'\n",
       "            + ' to learn more about interactive tables.';\n",
       "          element.innerHTML = '';\n",
       "          dataTable['output_type'] = 'display_data';\n",
       "          await google.colab.output.renderOutput(dataTable, element);\n",
       "          const docLink = document.createElement('div');\n",
       "          docLink.innerHTML = docLinkHtml;\n",
       "          element.appendChild(docLink);\n",
       "        }\n",
       "      </script>\n",
       "    </div>\n",
       "  </div>\n",
       "  "
      ],
      "text/plain": [
       "    market_id           created_at actual_delivery_time  \\\n",
       "0         1.0  2015-02-06 22:24:17  2015-02-06 23:27:16   \n",
       "1         2.0  2015-02-10 21:49:25  2015-02-10 22:56:29   \n",
       "8         2.0  2015-02-16 00:11:35  2015-02-16 00:38:01   \n",
       "14        1.0  2015-02-12 03:36:46  2015-02-12 04:14:39   \n",
       "15        1.0  2015-01-27 02:12:36  2015-01-27 03:02:24   \n",
       "\n",
       "                            store_id store_primary_category  order_protocol  \\\n",
       "0   df263d996281d984952c07998dc54358               american             1.0   \n",
       "1   f0ade77b43923b38237db569b016ba25                mexican             2.0   \n",
       "8   f0ade77b43923b38237db569b016ba25                 indian             3.0   \n",
       "14  ef1e491a766ce3127556063d49bc2f98                italian             1.0   \n",
       "15  ef1e491a766ce3127556063d49bc2f98                italian             1.0   \n",
       "\n",
       "    total_items  subtotal  num_distinct_items  min_item_price  max_item_price  \\\n",
       "0             4      3441                   4             557            1239   \n",
       "1             1      1900                   1            1400            1400   \n",
       "8             4      4771                   3             820            1604   \n",
       "14            1      1525                   1            1525            1525   \n",
       "15            2      3620                   2            1425            2195   \n",
       "\n",
       "    total_onshift_partners  total_busy_partners  total_outstanding_orders  \\\n",
       "0                     33.0                 14.0                      21.0   \n",
       "1                      1.0                  2.0                       2.0   \n",
       "8                      8.0                  6.0                      18.0   \n",
       "14                     5.0                  6.0                       8.0   \n",
       "15                     5.0                  5.0                       7.0   \n",
       "\n",
       "    delivery_time  hour  dayofweek  \n",
       "0            63.0    22          4  \n",
       "1            67.0    21          1  \n",
       "8            26.0     0          0  \n",
       "14           38.0     3          3  \n",
       "15           50.0     2          1  "
      ]
     },
     "execution_count": 62,
     "metadata": {},
     "output_type": "execute_result"
    }
   ],
   "source": [
    "df.head()"
   ]
  },
  {
   "cell_type": "code",
   "execution_count": 63,
   "metadata": {
    "colab": {
     "base_uri": "https://localhost:8080/",
     "height": 353
    },
    "id": "2zv_q-La07ZO",
    "outputId": "d71b8402-5b36-4da7-a0e1-f02dce5cb238"
   },
   "outputs": [
    {
     "name": "stderr",
     "output_type": "stream",
     "text": [
      "/usr/local/lib/python3.7/dist-packages/seaborn/_decorators.py:43: FutureWarning: Pass the following variable as a keyword arg: x. From version 0.12, the only valid positional argument will be `data`, and passing other arguments without an explicit keyword will result in an error or misinterpretation.\n",
      "  FutureWarning\n"
     ]
    },
    {
     "data": {
      "text/plain": [
       "<matplotlib.axes._subplots.AxesSubplot at 0x7fdbc7933e50>"
      ]
     },
     "execution_count": 63,
     "metadata": {},
     "output_type": "execute_result"
    },
    {
     "data": {
      "image/png": "[encoded data removed]",
      "text/plain": [
       "<Figure size 432x288 with 1 Axes>"
      ]
     },
     "metadata": {
      "needs_background": "light"
     },
     "output_type": "display_data"
    }
   ],
   "source": [
    "sns.countplot('hour',data=df)"
   ]
  },
  {
   "cell_type": "markdown",
   "metadata": {
    "id": "6rXQ_JoiDsNo"
   },
   "source": [
    "Most of the orders are placed in midnight that to after 12AM to 4Am and no orders are placed in between 7AM and 3PM"
   ]
  },
  {
   "cell_type": "code",
   "execution_count": 64,
   "metadata": {
    "colab": {
     "base_uri": "https://localhost:8080/",
     "height": 353
    },
    "id": "9v0sjzF02IzZ",
    "outputId": "2705a97d-b2c5-43b5-8486-b2018c192ace"
   },
   "outputs": [
    {
     "name": "stderr",
     "output_type": "stream",
     "text": [
      "/usr/local/lib/python3.7/dist-packages/seaborn/_decorators.py:43: FutureWarning: Pass the following variable as a keyword arg: x. From version 0.12, the only valid positional argument will be `data`, and passing other arguments without an explicit keyword will result in an error or misinterpretation.\n",
      "  FutureWarning\n"
     ]
    },
    {
     "data": {
      "text/plain": [
       "<matplotlib.axes._subplots.AxesSubplot at 0x7fdbc7874250>"
      ]
     },
     "execution_count": 64,
     "metadata": {},
     "output_type": "execute_result"
    },
    {
     "data": {
      "image/png": "[encoded data removed]",
      "text/plain": [
       "<Figure size 432x288 with 1 Axes>"
      ]
     },
     "metadata": {
      "needs_background": "light"
     },
     "output_type": "display_data"
    }
   ],
   "source": [
    "sns.countplot(df['dayofweek'])"
   ]
  },
  {
   "cell_type": "markdown",
   "metadata": {
    "id": "LlBuxucqESC1"
   },
   "source": [
    "Saturdays and sundays have the most number of orders"
   ]
  },
  {
   "cell_type": "code",
   "execution_count": 65,
   "metadata": {
    "colab": {
     "base_uri": "https://localhost:8080/",
     "height": 35
    },
    "id": "G1ZysI3s2paq",
    "outputId": "3b0400e6-fa91-4374-e0c9-85c046d919f2"
   },
   "outputs": [
    {
     "data": {
      "application/vnd.google.colaboratory.intrinsic+json": {
       "type": "string"
      },
      "text/plain": [
       "'Given data is from Data is from 2015-01-21 to 2015-02-18'"
      ]
     },
     "execution_count": 65,
     "metadata": {},
     "output_type": "execute_result"
    }
   ],
   "source": [
    "'Given data is from Data is from '+ str(pd.to_datetime(df['created_at']).dt.date.min()) + ' to ' + str(pd.to_datetime(df['created_at']).dt.date.max()) "
   ]
  },
  {
   "cell_type": "markdown",
   "metadata": {
    "id": "mRD3p7ZtEXRa"
   },
   "source": [
    "**Given data is from Data is from 2015-01-21 to 2015-02-18**"
   ]
  },
  {
   "cell_type": "code",
   "execution_count": 66,
   "metadata": {
    "colab": {
     "base_uri": "https://localhost:8080/",
     "height": 297
    },
    "id": "mBVahvm87rsc",
    "outputId": "4a35a6ed-fe26-49b4-8ff1-c56cb4046bf3"
   },
   "outputs": [
    {
     "data": {
      "text/plain": [
       "<matplotlib.axes._subplots.AxesSubplot at 0x7fdbc77f9490>"
      ]
     },
     "execution_count": 66,
     "metadata": {},
     "output_type": "execute_result"
    },
    {
     "data": {
      "image/png": "[encoded data removed]",
      "text/plain": [
       "<Figure size 432x288 with 1 Axes>"
      ]
     },
     "metadata": {
      "needs_background": "light"
     },
     "output_type": "display_data"
    }
   ],
   "source": [
    "sns.scatterplot(y='delivery_time', x='hour',data=df)"
   ]
  },
  {
   "cell_type": "markdown",
   "metadata": {
    "id": "k1HMOfSBHItu"
   },
   "source": [
    "Seems like there are lot of outliers in delivery_time"
   ]
  },
  {
   "cell_type": "code",
   "execution_count": 67,
   "metadata": {
    "colab": {
     "base_uri": "https://localhost:8080/",
     "height": 270
    },
    "id": "4c47DGut8IvT",
    "outputId": "6868d87c-c1e1-4bcd-a89c-1d8f205388d8"
   },
   "outputs": [
    {
     "data": {
      "text/plain": [
       "<matplotlib.axes._subplots.AxesSubplot at 0x7fdbc7772f90>"
      ]
     },
     "execution_count": 67,
     "metadata": {},
     "output_type": "execute_result"
    },
    {
     "data": {
      "image/png": "[encoded data removed]",
      "text/plain": [
       "<Figure size 432x288 with 1 Axes>"
      ]
     },
     "metadata": {
      "needs_background": "light"
     },
     "output_type": "display_data"
    }
   ],
   "source": [
    "sns.boxplot(y=df['delivery_time'])"
   ]
  },
  {
   "cell_type": "code",
   "execution_count": 68,
   "metadata": {
    "colab": {
     "base_uri": "https://localhost:8080/",
     "height": 354
    },
    "id": "DKHt6pqLAWhE",
    "outputId": "3305513d-24e4-4afe-8890-76145a7d7846"
   },
   "outputs": [
    {
     "name": "stderr",
     "output_type": "stream",
     "text": [
      "/usr/local/lib/python3.7/dist-packages/seaborn/distributions.py:2619: FutureWarning: `distplot` is a deprecated function and will be removed in a future version. Please adapt your code to use either `displot` (a figure-level function with similar flexibility) or `histplot` (an axes-level function for histograms).\n",
      "  warnings.warn(msg, FutureWarning)\n"
     ]
    },
    {
     "data": {
      "text/plain": [
       "<matplotlib.axes._subplots.AxesSubplot at 0x7fdbc7753d90>"
      ]
     },
     "execution_count": 68,
     "metadata": {},
     "output_type": "execute_result"
    },
    {
     "data": {
      "image/png": "[encoded data removed]",
      "text/plain": [
       "<Figure size 432x288 with 1 Axes>"
      ]
     },
     "metadata": {
      "needs_background": "light"
     },
     "output_type": "display_data"
    }
   ],
   "source": [
    "sns.distplot(df['delivery_time'])"
   ]
  },
  {
   "cell_type": "markdown",
   "metadata": {
    "id": "eSyvpdd_HTqR"
   },
   "source": [
    "Checking the data having deliverytime greater than 1000"
   ]
  },
  {
   "cell_type": "code",
   "execution_count": 69,
   "metadata": {
    "colab": {
     "base_uri": "https://localhost:8080/",
     "height": 211
    },
    "id": "m9Rbx54tArBN",
    "outputId": "92862f80-c08c-460f-8551-77ba6e1d8d1e"
   },
   "outputs": [
    {
     "data": {
      "text/html": [
       "\n",
       "  <div id=\"df-915eff3c-96b4-426a-8102-ca2a64d160d7\">\n",
       "    <div class=\"colab-df-container\">\n",
       "      <div>\n",
       "<style scoped>\n",
       "    .dataframe tbody tr th:only-of-type {\n",
       "        vertical-align: middle;\n",
       "    }\n",
       "\n",
       "    .dataframe tbody tr th {\n",
       "        vertical-align: top;\n",
       "    }\n",
       "\n",
       "    .dataframe thead th {\n",
       "        text-align: right;\n",
       "    }\n",
       "</style>\n",
       "<table border=\"1\" class=\"dataframe\">\n",
       "  <thead>\n",
       "    <tr style=\"text-align: right;\">\n",
       "      <th></th>\n",
       "      <th>market_id</th>\n",
       "      <th>created_at</th>\n",
       "      <th>actual_delivery_time</th>\n",
       "      <th>store_id</th>\n",
       "      <th>store_primary_category</th>\n",
       "      <th>order_protocol</th>\n",
       "      <th>total_items</th>\n",
       "      <th>subtotal</th>\n",
       "      <th>num_distinct_items</th>\n",
       "      <th>min_item_price</th>\n",
       "      <th>max_item_price</th>\n",
       "      <th>total_onshift_partners</th>\n",
       "      <th>total_busy_partners</th>\n",
       "      <th>total_outstanding_orders</th>\n",
       "      <th>delivery_time</th>\n",
       "      <th>hour</th>\n",
       "      <th>dayofweek</th>\n",
       "    </tr>\n",
       "  </thead>\n",
       "  <tbody>\n",
       "    <tr>\n",
       "      <th>27189</th>\n",
       "      <td>1.0</td>\n",
       "      <td>2015-02-16 02:24:09</td>\n",
       "      <td>2015-02-19 22:45:31</td>\n",
       "      <td>d397c2b2be2178fe6247bd50fc97cff2</td>\n",
       "      <td>indian</td>\n",
       "      <td>3.0</td>\n",
       "      <td>4</td>\n",
       "      <td>4980</td>\n",
       "      <td>4</td>\n",
       "      <td>995</td>\n",
       "      <td>1795</td>\n",
       "      <td>72.0</td>\n",
       "      <td>68.0</td>\n",
       "      <td>104.0</td>\n",
       "      <td>5541.0</td>\n",
       "      <td>2</td>\n",
       "      <td>0</td>\n",
       "    </tr>\n",
       "    <tr>\n",
       "      <th>185550</th>\n",
       "      <td>4.0</td>\n",
       "      <td>2015-01-28 08:34:06</td>\n",
       "      <td>2015-02-01 16:25:25</td>\n",
       "      <td>1679091c5a880faf6fb5e6087eb1b2dc</td>\n",
       "      <td>dessert</td>\n",
       "      <td>5.0</td>\n",
       "      <td>3</td>\n",
       "      <td>1520</td>\n",
       "      <td>3</td>\n",
       "      <td>220</td>\n",
       "      <td>750</td>\n",
       "      <td>0.0</td>\n",
       "      <td>0.0</td>\n",
       "      <td>0.0</td>\n",
       "      <td>6231.0</td>\n",
       "      <td>8</td>\n",
       "      <td>2</td>\n",
       "    </tr>\n",
       "  </tbody>\n",
       "</table>\n",
       "</div>\n",
       "      <button class=\"colab-df-convert\" onclick=\"convertToInteractive('df-915eff3c-96b4-426a-8102-ca2a64d160d7')\"\n",
       "              title=\"Convert this dataframe to an interactive table.\"\n",
       "              style=\"display:none;\">\n",
       "        \n",
       "  <svg xmlns=\"http://www.w3.org/2000/svg\" height=\"24px\"viewBox=\"0 0 24 24\"\n",
       "       width=\"24px\">\n",
       "    <path d=\"M0 0h24v24H0V0z\" fill=\"none\"/>\n",
       "    <path d=\"M18.56 5.44l.94 2.06.94-2.06 2.06-.94-2.06-.94-.94-2.06-.94 2.06-2.06.94zm-11 1L8.5 8.5l.94-2.06 2.06-.94-2.06-.94L8.5 2.5l-.94 2.06-2.06.94zm10 10l.94 2.06.94-2.06 2.06-.94-2.06-.94-.94-2.06-.94 2.06-2.06.94z\"/><path d=\"M17.41 7.96l-1.37-1.37c-.4-.4-.92-.59-1.43-.59-.52 0-1.04.2-1.43.59L10.3 9.45l-7.72 7.72c-.78.78-.78 2.05 0 2.83L4 21.41c.39.39.9.59 1.41.59.51 0 1.02-.2 1.41-.59l7.78-7.78 2.81-2.81c.8-.78.8-2.07 0-2.86zM5.41 20L4 18.59l7.72-7.72 1.47 1.35L5.41 20z\"/>\n",
       "  </svg>\n",
       "      </button>\n",
       "      \n",
       "  <style>\n",
       "    .colab-df-container {\n",
       "      display:flex;\n",
       "      flex-wrap:wrap;\n",
       "      gap: 12px;\n",
       "    }\n",
       "\n",
       "    .colab-df-convert {\n",
       "      background-color: #E8F0FE;\n",
       "      border: none;\n",
       "      border-radius: 50%;\n",
       "      cursor: pointer;\n",
       "      display: none;\n",
       "      fill: #1967D2;\n",
       "      height: 32px;\n",
       "      padding: 0 0 0 0;\n",
       "      width: 32px;\n",
       "    }\n",
       "\n",
       "    .colab-df-convert:hover {\n",
       "      background-color: #E2EBFA;\n",
       "      box-shadow: 0px 1px 2px rgba(60, 64, 67, 0.3), 0px 1px 3px 1px rgba(60, 64, 67, 0.15);\n",
       "      fill: #174EA6;\n",
       "    }\n",
       "\n",
       "    [theme=dark] .colab-df-convert {\n",
       "      background-color: #3B4455;\n",
       "      fill: #D2E3FC;\n",
       "    }\n",
       "\n",
       "    [theme=dark] .colab-df-convert:hover {\n",
       "      background-color: #434B5C;\n",
       "      box-shadow: 0px 1px 3px 1px rgba(0, 0, 0, 0.15);\n",
       "      filter: drop-shadow(0px 1px 2px rgba(0, 0, 0, 0.3));\n",
       "      fill: #FFFFFF;\n",
       "    }\n",
       "  </style>\n",
       "\n",
       "      <script>\n",
       "        const buttonEl =\n",
       "          document.querySelector('#df-915eff3c-96b4-426a-8102-ca2a64d160d7 button.colab-df-convert');\n",
       "        buttonEl.style.display =\n",
       "          google.colab.kernel.accessAllowed ? 'block' : 'none';\n",
       "\n",
       "        async function convertToInteractive(key) {\n",
       "          const element = document.querySelector('#df-915eff3c-96b4-426a-8102-ca2a64d160d7');\n",
       "          const dataTable =\n",
       "            await google.colab.kernel.invokeFunction('convertToInteractive',\n",
       "                                                     [key], {});\n",
       "          if (!dataTable) return;\n",
       "\n",
       "          const docLinkHtml = 'Like what you see? Visit the ' +\n",
       "            '<a target=\"_blank\" href=https://colab.research.google.com/notebooks/data_table.ipynb>data table notebook</a>'\n",
       "            + ' to learn more about interactive tables.';\n",
       "          element.innerHTML = '';\n",
       "          dataTable['output_type'] = 'display_data';\n",
       "          await google.colab.output.renderOutput(dataTable, element);\n",
       "          const docLink = document.createElement('div');\n",
       "          docLink.innerHTML = docLinkHtml;\n",
       "          element.appendChild(docLink);\n",
       "        }\n",
       "      </script>\n",
       "    </div>\n",
       "  </div>\n",
       "  "
      ],
      "text/plain": [
       "        market_id           created_at actual_delivery_time  \\\n",
       "27189         1.0  2015-02-16 02:24:09  2015-02-19 22:45:31   \n",
       "185550        4.0  2015-01-28 08:34:06  2015-02-01 16:25:25   \n",
       "\n",
       "                                store_id store_primary_category  \\\n",
       "27189   d397c2b2be2178fe6247bd50fc97cff2                 indian   \n",
       "185550  1679091c5a880faf6fb5e6087eb1b2dc                dessert   \n",
       "\n",
       "        order_protocol  total_items  subtotal  num_distinct_items  \\\n",
       "27189              3.0            4      4980                   4   \n",
       "185550             5.0            3      1520                   3   \n",
       "\n",
       "        min_item_price  max_item_price  total_onshift_partners  \\\n",
       "27189              995            1795                    72.0   \n",
       "185550             220             750                     0.0   \n",
       "\n",
       "        total_busy_partners  total_outstanding_orders  delivery_time  hour  \\\n",
       "27189                  68.0                     104.0         5541.0     2   \n",
       "185550                  0.0                       0.0         6231.0     8   \n",
       "\n",
       "        dayofweek  \n",
       "27189           0  \n",
       "185550          2  "
      ]
     },
     "execution_count": 69,
     "metadata": {},
     "output_type": "execute_result"
    }
   ],
   "source": [
    "df[df['delivery_time']>1000]"
   ]
  },
  {
   "cell_type": "markdown",
   "metadata": {
    "id": "OtSObhtBHcpI"
   },
   "source": [
    "Filtering that data"
   ]
  },
  {
   "cell_type": "code",
   "execution_count": 70,
   "metadata": {
    "id": "VOlAA6PmBEtl"
   },
   "outputs": [],
   "source": [
    "df = df[df['delivery_time']<1000]"
   ]
  },
  {
   "cell_type": "code",
   "execution_count": 71,
   "metadata": {
    "colab": {
     "base_uri": "https://localhost:8080/",
     "height": 354
    },
    "id": "SYQjm2w-CgQW",
    "outputId": "0b12f2d7-6cd5-44ed-938b-6030983863b8"
   },
   "outputs": [
    {
     "name": "stderr",
     "output_type": "stream",
     "text": [
      "/usr/local/lib/python3.7/dist-packages/seaborn/distributions.py:2619: FutureWarning: `distplot` is a deprecated function and will be removed in a future version. Please adapt your code to use either `displot` (a figure-level function with similar flexibility) or `histplot` (an axes-level function for histograms).\n",
      "  warnings.warn(msg, FutureWarning)\n"
     ]
    },
    {
     "data": {
      "text/plain": [
       "<matplotlib.axes._subplots.AxesSubplot at 0x7fdbc75dfb90>"
      ]
     },
     "execution_count": 71,
     "metadata": {},
     "output_type": "execute_result"
    },
    {
     "data": {
      "image/png": "[encoded data removed]",
      "text/plain": [
       "<Figure size 432x288 with 1 Axes>"
      ]
     },
     "metadata": {
      "needs_background": "light"
     },
     "output_type": "display_data"
    }
   ],
   "source": [
    "sns.distplot(df['delivery_time'])"
   ]
  },
  {
   "cell_type": "markdown",
   "metadata": {
    "id": "hN9sblCDHjCZ"
   },
   "source": [
    "still there are much outliers and hence checking the 1% outbound data"
   ]
  },
  {
   "cell_type": "code",
   "execution_count": 72,
   "metadata": {
    "colab": {
     "base_uri": "https://localhost:8080/",
     "height": 0
    },
    "id": "spY4MO-a83Rr",
    "outputId": "c5f951b2-dfc2-4977-97e9-bb6310d9e431"
   },
   "outputs": [
    {
     "name": "stdout",
     "output_type": "stream",
     "text": [
      "108.0 19.0\n"
     ]
    }
   ],
   "source": [
    "upper1 = np.percentile(df['delivery_time'],99,interpolation='midpoint')\n",
    "lower1 = np.percentile(df['delivery_time'],1,interpolation='midpoint')\n",
    "print(upper1,lower1)"
   ]
  },
  {
   "cell_type": "code",
   "execution_count": 73,
   "metadata": {
    "colab": {
     "base_uri": "https://localhost:8080/",
     "height": 661
    },
    "id": "bC2-RXuf-8Wi",
    "outputId": "9ecf651f-4fce-48c1-f806-c0c03fcbefa1"
   },
   "outputs": [
    {
     "data": {
      "text/html": [
       "\n",
       "  <div id=\"df-4da028c9-add2-4781-b27e-569039f6392f\">\n",
       "    <div class=\"colab-df-container\">\n",
       "      <div>\n",
       "<style scoped>\n",
       "    .dataframe tbody tr th:only-of-type {\n",
       "        vertical-align: middle;\n",
       "    }\n",
       "\n",
       "    .dataframe tbody tr th {\n",
       "        vertical-align: top;\n",
       "    }\n",
       "\n",
       "    .dataframe thead th {\n",
       "        text-align: right;\n",
       "    }\n",
       "</style>\n",
       "<table border=\"1\" class=\"dataframe\">\n",
       "  <thead>\n",
       "    <tr style=\"text-align: right;\">\n",
       "      <th></th>\n",
       "      <th>market_id</th>\n",
       "      <th>created_at</th>\n",
       "      <th>actual_delivery_time</th>\n",
       "      <th>store_id</th>\n",
       "      <th>store_primary_category</th>\n",
       "      <th>order_protocol</th>\n",
       "      <th>total_items</th>\n",
       "      <th>subtotal</th>\n",
       "      <th>num_distinct_items</th>\n",
       "      <th>min_item_price</th>\n",
       "      <th>max_item_price</th>\n",
       "      <th>total_onshift_partners</th>\n",
       "      <th>total_busy_partners</th>\n",
       "      <th>total_outstanding_orders</th>\n",
       "      <th>delivery_time</th>\n",
       "      <th>hour</th>\n",
       "      <th>dayofweek</th>\n",
       "    </tr>\n",
       "  </thead>\n",
       "  <tbody>\n",
       "    <tr>\n",
       "      <th>458</th>\n",
       "      <td>1.0</td>\n",
       "      <td>2015-02-15 03:21:08</td>\n",
       "      <td>2015-02-15 05:14:14</td>\n",
       "      <td>a714ec6796f638ba4d5792f78dccd134</td>\n",
       "      <td>japanese</td>\n",
       "      <td>3.0</td>\n",
       "      <td>9</td>\n",
       "      <td>3930</td>\n",
       "      <td>4</td>\n",
       "      <td>385</td>\n",
       "      <td>750</td>\n",
       "      <td>24.0</td>\n",
       "      <td>24.0</td>\n",
       "      <td>52.0</td>\n",
       "      <td>113.0</td>\n",
       "      <td>3</td>\n",
       "      <td>6</td>\n",
       "    </tr>\n",
       "    <tr>\n",
       "      <th>459</th>\n",
       "      <td>1.0</td>\n",
       "      <td>2015-02-02 03:21:25</td>\n",
       "      <td>2015-02-02 05:32:27</td>\n",
       "      <td>a714ec6796f638ba4d5792f78dccd134</td>\n",
       "      <td>japanese</td>\n",
       "      <td>3.0</td>\n",
       "      <td>4</td>\n",
       "      <td>3380</td>\n",
       "      <td>4</td>\n",
       "      <td>385</td>\n",
       "      <td>1395</td>\n",
       "      <td>21.0</td>\n",
       "      <td>23.0</td>\n",
       "      <td>51.0</td>\n",
       "      <td>131.0</td>\n",
       "      <td>3</td>\n",
       "      <td>0</td>\n",
       "    </tr>\n",
       "    <tr>\n",
       "      <th>641</th>\n",
       "      <td>6.0</td>\n",
       "      <td>2015-02-09 03:23:20</td>\n",
       "      <td>2015-02-09 05:14:22</td>\n",
       "      <td>9d7311ba459f9e45ed746755a32dcd11</td>\n",
       "      <td>sandwich</td>\n",
       "      <td>1.0</td>\n",
       "      <td>7</td>\n",
       "      <td>2375</td>\n",
       "      <td>6</td>\n",
       "      <td>200</td>\n",
       "      <td>475</td>\n",
       "      <td>56.0</td>\n",
       "      <td>58.0</td>\n",
       "      <td>100.0</td>\n",
       "      <td>111.0</td>\n",
       "      <td>3</td>\n",
       "      <td>0</td>\n",
       "    </tr>\n",
       "    <tr>\n",
       "      <th>701</th>\n",
       "      <td>4.0</td>\n",
       "      <td>2015-02-02 01:47:52</td>\n",
       "      <td>2015-02-02 03:53:12</td>\n",
       "      <td>3f900db2608fb3eecb3ee77ba9ef5f60</td>\n",
       "      <td>burger</td>\n",
       "      <td>1.0</td>\n",
       "      <td>3</td>\n",
       "      <td>2727</td>\n",
       "      <td>3</td>\n",
       "      <td>399</td>\n",
       "      <td>1299</td>\n",
       "      <td>44.0</td>\n",
       "      <td>44.0</td>\n",
       "      <td>76.0</td>\n",
       "      <td>125.0</td>\n",
       "      <td>1</td>\n",
       "      <td>0</td>\n",
       "    </tr>\n",
       "    <tr>\n",
       "      <th>793</th>\n",
       "      <td>1.0</td>\n",
       "      <td>2015-02-05 03:35:13</td>\n",
       "      <td>2015-02-05 05:37:31</td>\n",
       "      <td>c56a4706337730e0e15da875405fa1c5</td>\n",
       "      <td>fast</td>\n",
       "      <td>4.0</td>\n",
       "      <td>2</td>\n",
       "      <td>1478</td>\n",
       "      <td>2</td>\n",
       "      <td>479</td>\n",
       "      <td>999</td>\n",
       "      <td>25.0</td>\n",
       "      <td>27.0</td>\n",
       "      <td>49.0</td>\n",
       "      <td>122.0</td>\n",
       "      <td>3</td>\n",
       "      <td>3</td>\n",
       "    </tr>\n",
       "    <tr>\n",
       "      <th>...</th>\n",
       "      <td>...</td>\n",
       "      <td>...</td>\n",
       "      <td>...</td>\n",
       "      <td>...</td>\n",
       "      <td>...</td>\n",
       "      <td>...</td>\n",
       "      <td>...</td>\n",
       "      <td>...</td>\n",
       "      <td>...</td>\n",
       "      <td>...</td>\n",
       "      <td>...</td>\n",
       "      <td>...</td>\n",
       "      <td>...</td>\n",
       "      <td>...</td>\n",
       "      <td>...</td>\n",
       "      <td>...</td>\n",
       "      <td>...</td>\n",
       "    </tr>\n",
       "    <tr>\n",
       "      <th>196932</th>\n",
       "      <td>1.0</td>\n",
       "      <td>2015-02-05 02:11:39</td>\n",
       "      <td>2015-02-05 04:04:25</td>\n",
       "      <td>1a21d8c9bbb99bca627434dbf4b98d01</td>\n",
       "      <td>japanese</td>\n",
       "      <td>3.0</td>\n",
       "      <td>2</td>\n",
       "      <td>2450</td>\n",
       "      <td>2</td>\n",
       "      <td>600</td>\n",
       "      <td>1600</td>\n",
       "      <td>24.0</td>\n",
       "      <td>24.0</td>\n",
       "      <td>23.0</td>\n",
       "      <td>113.0</td>\n",
       "      <td>2</td>\n",
       "      <td>3</td>\n",
       "    </tr>\n",
       "    <tr>\n",
       "      <th>196949</th>\n",
       "      <td>1.0</td>\n",
       "      <td>2015-02-02 02:13:04</td>\n",
       "      <td>2015-02-02 04:31:26</td>\n",
       "      <td>1a21d8c9bbb99bca627434dbf4b98d01</td>\n",
       "      <td>japanese</td>\n",
       "      <td>3.0</td>\n",
       "      <td>3</td>\n",
       "      <td>3700</td>\n",
       "      <td>3</td>\n",
       "      <td>700</td>\n",
       "      <td>2200</td>\n",
       "      <td>18.0</td>\n",
       "      <td>20.0</td>\n",
       "      <td>30.0</td>\n",
       "      <td>138.0</td>\n",
       "      <td>2</td>\n",
       "      <td>0</td>\n",
       "    </tr>\n",
       "    <tr>\n",
       "      <th>197045</th>\n",
       "      <td>4.0</td>\n",
       "      <td>2015-02-13 21:35:28</td>\n",
       "      <td>2015-02-14 00:03:27</td>\n",
       "      <td>17e62166fc8586dfa4d1bc0e1742c08b</td>\n",
       "      <td>vietnamese</td>\n",
       "      <td>5.0</td>\n",
       "      <td>1</td>\n",
       "      <td>825</td>\n",
       "      <td>1</td>\n",
       "      <td>750</td>\n",
       "      <td>750</td>\n",
       "      <td>46.0</td>\n",
       "      <td>41.0</td>\n",
       "      <td>45.0</td>\n",
       "      <td>148.0</td>\n",
       "      <td>21</td>\n",
       "      <td>4</td>\n",
       "    </tr>\n",
       "    <tr>\n",
       "      <th>197353</th>\n",
       "      <td>1.0</td>\n",
       "      <td>2015-02-05 23:40:50</td>\n",
       "      <td>2015-02-06 01:33:00</td>\n",
       "      <td>a914ecef9c12ffdb9bede64bb703d877</td>\n",
       "      <td>fast</td>\n",
       "      <td>4.0</td>\n",
       "      <td>1</td>\n",
       "      <td>859</td>\n",
       "      <td>1</td>\n",
       "      <td>649</td>\n",
       "      <td>649</td>\n",
       "      <td>11.0</td>\n",
       "      <td>14.0</td>\n",
       "      <td>14.0</td>\n",
       "      <td>112.0</td>\n",
       "      <td>23</td>\n",
       "      <td>3</td>\n",
       "    </tr>\n",
       "    <tr>\n",
       "      <th>197414</th>\n",
       "      <td>1.0</td>\n",
       "      <td>2015-02-03 02:07:26</td>\n",
       "      <td>2015-02-03 04:22:00</td>\n",
       "      <td>a914ecef9c12ffdb9bede64bb703d877</td>\n",
       "      <td>fast</td>\n",
       "      <td>4.0</td>\n",
       "      <td>5</td>\n",
       "      <td>2325</td>\n",
       "      <td>5</td>\n",
       "      <td>307</td>\n",
       "      <td>610</td>\n",
       "      <td>48.0</td>\n",
       "      <td>44.0</td>\n",
       "      <td>66.0</td>\n",
       "      <td>135.0</td>\n",
       "      <td>2</td>\n",
       "      <td>1</td>\n",
       "    </tr>\n",
       "  </tbody>\n",
       "</table>\n",
       "<p>1709 rows × 17 columns</p>\n",
       "</div>\n",
       "      <button class=\"colab-df-convert\" onclick=\"convertToInteractive('df-4da028c9-add2-4781-b27e-569039f6392f')\"\n",
       "              title=\"Convert this dataframe to an interactive table.\"\n",
       "              style=\"display:none;\">\n",
       "        \n",
       "  <svg xmlns=\"http://www.w3.org/2000/svg\" height=\"24px\"viewBox=\"0 0 24 24\"\n",
       "       width=\"24px\">\n",
       "    <path d=\"M0 0h24v24H0V0z\" fill=\"none\"/>\n",
       "    <path d=\"M18.56 5.44l.94 2.06.94-2.06 2.06-.94-2.06-.94-.94-2.06-.94 2.06-2.06.94zm-11 1L8.5 8.5l.94-2.06 2.06-.94-2.06-.94L8.5 2.5l-.94 2.06-2.06.94zm10 10l.94 2.06.94-2.06 2.06-.94-2.06-.94-.94-2.06-.94 2.06-2.06.94z\"/><path d=\"M17.41 7.96l-1.37-1.37c-.4-.4-.92-.59-1.43-.59-.52 0-1.04.2-1.43.59L10.3 9.45l-7.72 7.72c-.78.78-.78 2.05 0 2.83L4 21.41c.39.39.9.59 1.41.59.51 0 1.02-.2 1.41-.59l7.78-7.78 2.81-2.81c.8-.78.8-2.07 0-2.86zM5.41 20L4 18.59l7.72-7.72 1.47 1.35L5.41 20z\"/>\n",
       "  </svg>\n",
       "      </button>\n",
       "      \n",
       "  <style>\n",
       "    .colab-df-container {\n",
       "      display:flex;\n",
       "      flex-wrap:wrap;\n",
       "      gap: 12px;\n",
       "    }\n",
       "\n",
       "    .colab-df-convert {\n",
       "      background-color: #E8F0FE;\n",
       "      border: none;\n",
       "      border-radius: 50%;\n",
       "      cursor: pointer;\n",
       "      display: none;\n",
       "      fill: #1967D2;\n",
       "      height: 32px;\n",
       "      padding: 0 0 0 0;\n",
       "      width: 32px;\n",
       "    }\n",
       "\n",
       "    .colab-df-convert:hover {\n",
       "      background-color: #E2EBFA;\n",
       "      box-shadow: 0px 1px 2px rgba(60, 64, 67, 0.3), 0px 1px 3px 1px rgba(60, 64, 67, 0.15);\n",
       "      fill: #174EA6;\n",
       "    }\n",
       "\n",
       "    [theme=dark] .colab-df-convert {\n",
       "      background-color: #3B4455;\n",
       "      fill: #D2E3FC;\n",
       "    }\n",
       "\n",
       "    [theme=dark] .colab-df-convert:hover {\n",
       "      background-color: #434B5C;\n",
       "      box-shadow: 0px 1px 3px 1px rgba(0, 0, 0, 0.15);\n",
       "      filter: drop-shadow(0px 1px 2px rgba(0, 0, 0, 0.3));\n",
       "      fill: #FFFFFF;\n",
       "    }\n",
       "  </style>\n",
       "\n",
       "      <script>\n",
       "        const buttonEl =\n",
       "          document.querySelector('#df-4da028c9-add2-4781-b27e-569039f6392f button.colab-df-convert');\n",
       "        buttonEl.style.display =\n",
       "          google.colab.kernel.accessAllowed ? 'block' : 'none';\n",
       "\n",
       "        async function convertToInteractive(key) {\n",
       "          const element = document.querySelector('#df-4da028c9-add2-4781-b27e-569039f6392f');\n",
       "          const dataTable =\n",
       "            await google.colab.kernel.invokeFunction('convertToInteractive',\n",
       "                                                     [key], {});\n",
       "          if (!dataTable) return;\n",
       "\n",
       "          const docLinkHtml = 'Like what you see? Visit the ' +\n",
       "            '<a target=\"_blank\" href=https://colab.research.google.com/notebooks/data_table.ipynb>data table notebook</a>'\n",
       "            + ' to learn more about interactive tables.';\n",
       "          element.innerHTML = '';\n",
       "          dataTable['output_type'] = 'display_data';\n",
       "          await google.colab.output.renderOutput(dataTable, element);\n",
       "          const docLink = document.createElement('div');\n",
       "          docLink.innerHTML = docLinkHtml;\n",
       "          element.appendChild(docLink);\n",
       "        }\n",
       "      </script>\n",
       "    </div>\n",
       "  </div>\n",
       "  "
      ],
      "text/plain": [
       "        market_id           created_at actual_delivery_time  \\\n",
       "458           1.0  2015-02-15 03:21:08  2015-02-15 05:14:14   \n",
       "459           1.0  2015-02-02 03:21:25  2015-02-02 05:32:27   \n",
       "641           6.0  2015-02-09 03:23:20  2015-02-09 05:14:22   \n",
       "701           4.0  2015-02-02 01:47:52  2015-02-02 03:53:12   \n",
       "793           1.0  2015-02-05 03:35:13  2015-02-05 05:37:31   \n",
       "...           ...                  ...                  ...   \n",
       "196932        1.0  2015-02-05 02:11:39  2015-02-05 04:04:25   \n",
       "196949        1.0  2015-02-02 02:13:04  2015-02-02 04:31:26   \n",
       "197045        4.0  2015-02-13 21:35:28  2015-02-14 00:03:27   \n",
       "197353        1.0  2015-02-05 23:40:50  2015-02-06 01:33:00   \n",
       "197414        1.0  2015-02-03 02:07:26  2015-02-03 04:22:00   \n",
       "\n",
       "                                store_id store_primary_category  \\\n",
       "458     a714ec6796f638ba4d5792f78dccd134               japanese   \n",
       "459     a714ec6796f638ba4d5792f78dccd134               japanese   \n",
       "641     9d7311ba459f9e45ed746755a32dcd11               sandwich   \n",
       "701     3f900db2608fb3eecb3ee77ba9ef5f60                 burger   \n",
       "793     c56a4706337730e0e15da875405fa1c5                   fast   \n",
       "...                                  ...                    ...   \n",
       "196932  1a21d8c9bbb99bca627434dbf4b98d01               japanese   \n",
       "196949  1a21d8c9bbb99bca627434dbf4b98d01               japanese   \n",
       "197045  17e62166fc8586dfa4d1bc0e1742c08b             vietnamese   \n",
       "197353  a914ecef9c12ffdb9bede64bb703d877                   fast   \n",
       "197414  a914ecef9c12ffdb9bede64bb703d877                   fast   \n",
       "\n",
       "        order_protocol  total_items  subtotal  num_distinct_items  \\\n",
       "458                3.0            9      3930                   4   \n",
       "459                3.0            4      3380                   4   \n",
       "641                1.0            7      2375                   6   \n",
       "701                1.0            3      2727                   3   \n",
       "793                4.0            2      1478                   2   \n",
       "...                ...          ...       ...                 ...   \n",
       "196932             3.0            2      2450                   2   \n",
       "196949             3.0            3      3700                   3   \n",
       "197045             5.0            1       825                   1   \n",
       "197353             4.0            1       859                   1   \n",
       "197414             4.0            5      2325                   5   \n",
       "\n",
       "        min_item_price  max_item_price  total_onshift_partners  \\\n",
       "458                385             750                    24.0   \n",
       "459                385            1395                    21.0   \n",
       "641                200             475                    56.0   \n",
       "701                399            1299                    44.0   \n",
       "793                479             999                    25.0   \n",
       "...                ...             ...                     ...   \n",
       "196932             600            1600                    24.0   \n",
       "196949             700            2200                    18.0   \n",
       "197045             750             750                    46.0   \n",
       "197353             649             649                    11.0   \n",
       "197414             307             610                    48.0   \n",
       "\n",
       "        total_busy_partners  total_outstanding_orders  delivery_time  hour  \\\n",
       "458                    24.0                      52.0          113.0     3   \n",
       "459                    23.0                      51.0          131.0     3   \n",
       "641                    58.0                     100.0          111.0     3   \n",
       "701                    44.0                      76.0          125.0     1   \n",
       "793                    27.0                      49.0          122.0     3   \n",
       "...                     ...                       ...            ...   ...   \n",
       "196932                 24.0                      23.0          113.0     2   \n",
       "196949                 20.0                      30.0          138.0     2   \n",
       "197045                 41.0                      45.0          148.0    21   \n",
       "197353                 14.0                      14.0          112.0    23   \n",
       "197414                 44.0                      66.0          135.0     2   \n",
       "\n",
       "        dayofweek  \n",
       "458             6  \n",
       "459             0  \n",
       "641             0  \n",
       "701             0  \n",
       "793             3  \n",
       "...           ...  \n",
       "196932          3  \n",
       "196949          0  \n",
       "197045          4  \n",
       "197353          3  \n",
       "197414          1  \n",
       "\n",
       "[1709 rows x 17 columns]"
      ]
     },
     "execution_count": 73,
     "metadata": {},
     "output_type": "execute_result"
    }
   ],
   "source": [
    "df[df['delivery_time'] > upper1]"
   ]
  },
  {
   "cell_type": "code",
   "execution_count": 74,
   "metadata": {
    "colab": {
     "base_uri": "https://localhost:8080/",
     "height": 354
    },
    "id": "_PbSnXOMEocP",
    "outputId": "e8e63ccb-2de6-4448-aac7-cf5478bce0b4"
   },
   "outputs": [
    {
     "name": "stderr",
     "output_type": "stream",
     "text": [
      "/usr/local/lib/python3.7/dist-packages/seaborn/_decorators.py:43: FutureWarning: Pass the following variable as a keyword arg: x. From version 0.12, the only valid positional argument will be `data`, and passing other arguments without an explicit keyword will result in an error or misinterpretation.\n",
      "  FutureWarning\n"
     ]
    },
    {
     "data": {
      "text/plain": [
       "<matplotlib.axes._subplots.AxesSubplot at 0x7fdbc9b7c790>"
      ]
     },
     "execution_count": 74,
     "metadata": {},
     "output_type": "execute_result"
    },
    {
     "data": {
      "image/png": "[encoded data removed]",
      "text/plain": [
       "<Figure size 432x288 with 1 Axes>"
      ]
     },
     "metadata": {
      "needs_background": "light"
     },
     "output_type": "display_data"
    }
   ],
   "source": [
    "sns.boxplot(df[df['delivery_time']<upper1]['delivery_time'])"
   ]
  },
  {
   "cell_type": "markdown",
   "metadata": {
    "id": "JHokeG6qHxQ5"
   },
   "source": [
    "still there's much noice in upper limit, hence going with 5% outliers"
   ]
  },
  {
   "cell_type": "code",
   "execution_count": 75,
   "metadata": {
    "colab": {
     "base_uri": "https://localhost:8080/",
     "height": 389
    },
    "id": "wxYJD8EkGnpK",
    "outputId": "80db8cfd-c54d-4601-b5bc-aee2bca04d50"
   },
   "outputs": [
    {
     "name": "stdout",
     "output_type": "stream",
     "text": [
      "81.0 25.0\n",
      "(8575, 17)\n"
     ]
    },
    {
     "name": "stderr",
     "output_type": "stream",
     "text": [
      "/usr/local/lib/python3.7/dist-packages/seaborn/_decorators.py:43: FutureWarning: Pass the following variable as a keyword arg: x. From version 0.12, the only valid positional argument will be `data`, and passing other arguments without an explicit keyword will result in an error or misinterpretation.\n",
      "  FutureWarning\n"
     ]
    },
    {
     "data": {
      "text/plain": [
       "<matplotlib.axes._subplots.AxesSubplot at 0x7fdbc74ee110>"
      ]
     },
     "execution_count": 75,
     "metadata": {},
     "output_type": "execute_result"
    },
    {
     "data": {
      "image/png": "[encoded data removed]",
      "text/plain": [
       "<Figure size 432x288 with 1 Axes>"
      ]
     },
     "metadata": {
      "needs_background": "light"
     },
     "output_type": "display_data"
    }
   ],
   "source": [
    "upper5 = np.percentile(df['delivery_time'],95,interpolation='midpoint')\n",
    "lower5 = np.percentile(df['delivery_time'],5,interpolation='midpoint')\n",
    "print(upper5,lower5)\n",
    "print(df[df['delivery_time'] > upper5].shape)\n",
    "sns.boxplot(df[df['delivery_time']<upper5]['delivery_time'])"
   ]
  },
  {
   "cell_type": "code",
   "execution_count": 76,
   "metadata": {
    "colab": {
     "base_uri": "https://localhost:8080/",
     "height": 0
    },
    "id": "8CliB0nUjYCO",
    "outputId": "4ca0009c-d715-45a1-fb2d-83b8e242516b"
   },
   "outputs": [
    {
     "data": {
      "text/plain": [
       "(156981, 17)"
      ]
     },
     "execution_count": 76,
     "metadata": {},
     "output_type": "execute_result"
    }
   ],
   "source": [
    "df = df[df['delivery_time']<81]\n",
    "df = df[df['delivery_time']>25]\n",
    "df.shape"
   ]
  },
  {
   "cell_type": "code",
   "execution_count": 100,
   "metadata": {
    "colab": {
     "base_uri": "https://localhost:8080/",
     "height": 297
    },
    "id": "qTm1zNm6GEdZ",
    "outputId": "9d30bf64-1993-43d7-80a4-fed5db4d1469"
   },
   "outputs": [
    {
     "data": {
      "text/plain": [
       "<matplotlib.axes._subplots.AxesSubplot at 0x7fdbcb599190>"
      ]
     },
     "execution_count": 100,
     "metadata": {},
     "output_type": "execute_result"
    },
    {
     "data": {
      "image/png": "[encoded data removed]",
      "text/plain": [
       "<Figure size 432x288 with 1 Axes>"
      ]
     },
     "metadata": {
      "needs_background": "light"
     },
     "output_type": "display_data"
    }
   ],
   "source": [
    "sns.scatterplot(y='delivery_time', x='hour',data=df)"
   ]
  },
  {
   "cell_type": "markdown",
   "metadata": {
    "id": "OIPiZ_KTGNcm"
   },
   "source": [
    "**Encoding Store Primary Category :**"
   ]
  },
  {
   "cell_type": "code",
   "execution_count": 77,
   "metadata": {
    "colab": {
     "base_uri": "https://localhost:8080/",
     "height": 0
    },
    "id": "l_a_24LncBIY",
    "outputId": "5dd5cb58-c113-49bf-f145-09668d1ee6cd"
   },
   "outputs": [
    {
     "data": {
      "text/plain": [
       "american             16404\n",
       "pizza                14335\n",
       "mexican              13710\n",
       "burger                8980\n",
       "sandwich              7945\n",
       "                     ...  \n",
       "russian                 10\n",
       "lebanese                 8\n",
       "belgian                  2\n",
       "chocolate                1\n",
       "alcohol-plus-food        1\n",
       "Name: store_primary_category, Length: 73, dtype: int64"
      ]
     },
     "execution_count": 77,
     "metadata": {},
     "output_type": "execute_result"
    }
   ],
   "source": [
    "df['store_primary_category'].value_counts()"
   ]
  },
  {
   "cell_type": "code",
   "execution_count": 78,
   "metadata": {
    "colab": {
     "base_uri": "https://localhost:8080/",
     "height": 0
    },
    "id": "AqUYPZkLjPiu",
    "outputId": "8248d1c4-543e-4e43-f4a8-8ca42c4cd5ee"
   },
   "outputs": [
    {
     "name": "stdout",
     "output_type": "stream",
     "text": [
      "Looking in indexes: https://pypi.org/simple, https://us-python.pkg.dev/colab-wheels/public/simple/\n",
      "Requirement already satisfied: category_encoders in /usr/local/lib/python3.7/dist-packages (2.5.1.post0)\n",
      "Requirement already satisfied: pandas>=1.0.5 in /usr/local/lib/python3.7/dist-packages (from category_encoders) (1.3.5)\n",
      "Requirement already satisfied: statsmodels>=0.9.0 in /usr/local/lib/python3.7/dist-packages (from category_encoders) (0.12.2)\n",
      "Requirement already satisfied: scipy>=1.0.0 in /usr/local/lib/python3.7/dist-packages (from category_encoders) (1.7.3)\n",
      "Requirement already satisfied: numpy>=1.14.0 in /usr/local/lib/python3.7/dist-packages (from category_encoders) (1.21.6)\n",
      "Requirement already satisfied: scikit-learn>=0.20.0 in /usr/local/lib/python3.7/dist-packages (from category_encoders) (1.0.2)\n",
      "Requirement already satisfied: patsy>=0.5.1 in /usr/local/lib/python3.7/dist-packages (from category_encoders) (0.5.2)\n",
      "Requirement already satisfied: pytz>=2017.3 in /usr/local/lib/python3.7/dist-packages (from pandas>=1.0.5->category_encoders) (2022.4)\n",
      "Requirement already satisfied: python-dateutil>=2.7.3 in /usr/local/lib/python3.7/dist-packages (from pandas>=1.0.5->category_encoders) (2.8.2)\n",
      "Requirement already satisfied: six in /usr/local/lib/python3.7/dist-packages (from patsy>=0.5.1->category_encoders) (1.15.0)\n",
      "Requirement already satisfied: joblib>=0.11 in /usr/local/lib/python3.7/dist-packages (from scikit-learn>=0.20.0->category_encoders) (1.2.0)\n",
      "Requirement already satisfied: threadpoolctl>=2.0.0 in /usr/local/lib/python3.7/dist-packages (from scikit-learn>=0.20.0->category_encoders) (3.1.0)\n"
     ]
    }
   ],
   "source": [
    "pip install category_encoders"
   ]
  },
  {
   "cell_type": "code",
   "execution_count": 79,
   "metadata": {
    "colab": {
     "base_uri": "https://localhost:8080/",
     "height": 0
    },
    "id": "RdXECvT4hYUV",
    "outputId": "355d1a8b-a755-4099-9d1a-7590a1e611dd"
   },
   "outputs": [
    {
     "name": "stderr",
     "output_type": "stream",
     "text": [
      "/usr/local/lib/python3.7/dist-packages/category_encoders/target_encoder.py:124: FutureWarning: Default parameter min_samples_leaf will change in version 2.6.See https://github.com/scikit-learn-contrib/category_encoders/issues/327\n",
      "  category=FutureWarning)\n",
      "/usr/local/lib/python3.7/dist-packages/category_encoders/target_encoder.py:129: FutureWarning: Default parameter smoothing will change in version 2.6.See https://github.com/scikit-learn-contrib/category_encoders/issues/327\n",
      "  category=FutureWarning)\n"
     ]
    }
   ],
   "source": [
    "from category_encoders import TargetEncoder\n",
    "df = TargetEncoder(cols=['store_primary_category'],smoothing=1.0).fit(df,df['delivery_time']).transform(df)"
   ]
  },
  {
   "cell_type": "code",
   "execution_count": 80,
   "metadata": {
    "colab": {
     "base_uri": "https://localhost:8080/",
     "height": 357
    },
    "id": "5N_L78SaubRb",
    "outputId": "37afd3b9-dd3c-4498-cf4a-c8e1644be8ac"
   },
   "outputs": [
    {
     "data": {
      "text/html": [
       "\n",
       "  <div id=\"df-2b955e26-79c5-4f16-89ac-c3c199236251\">\n",
       "    <div class=\"colab-df-container\">\n",
       "      <div>\n",
       "<style scoped>\n",
       "    .dataframe tbody tr th:only-of-type {\n",
       "        vertical-align: middle;\n",
       "    }\n",
       "\n",
       "    .dataframe tbody tr th {\n",
       "        vertical-align: top;\n",
       "    }\n",
       "\n",
       "    .dataframe thead th {\n",
       "        text-align: right;\n",
       "    }\n",
       "</style>\n",
       "<table border=\"1\" class=\"dataframe\">\n",
       "  <thead>\n",
       "    <tr style=\"text-align: right;\">\n",
       "      <th></th>\n",
       "      <th>market_id</th>\n",
       "      <th>created_at</th>\n",
       "      <th>actual_delivery_time</th>\n",
       "      <th>store_id</th>\n",
       "      <th>store_primary_category</th>\n",
       "      <th>order_protocol</th>\n",
       "      <th>total_items</th>\n",
       "      <th>subtotal</th>\n",
       "      <th>num_distinct_items</th>\n",
       "      <th>min_item_price</th>\n",
       "      <th>max_item_price</th>\n",
       "      <th>total_onshift_partners</th>\n",
       "      <th>total_busy_partners</th>\n",
       "      <th>total_outstanding_orders</th>\n",
       "      <th>delivery_time</th>\n",
       "      <th>hour</th>\n",
       "      <th>dayofweek</th>\n",
       "    </tr>\n",
       "  </thead>\n",
       "  <tbody>\n",
       "    <tr>\n",
       "      <th>0</th>\n",
       "      <td>1.0</td>\n",
       "      <td>2015-02-06 22:24:17</td>\n",
       "      <td>2015-02-06 23:27:16</td>\n",
       "      <td>df263d996281d984952c07998dc54358</td>\n",
       "      <td>46.336198</td>\n",
       "      <td>1.0</td>\n",
       "      <td>4</td>\n",
       "      <td>3441</td>\n",
       "      <td>4</td>\n",
       "      <td>557</td>\n",
       "      <td>1239</td>\n",
       "      <td>33.0</td>\n",
       "      <td>14.0</td>\n",
       "      <td>21.0</td>\n",
       "      <td>63.0</td>\n",
       "      <td>22</td>\n",
       "      <td>4</td>\n",
       "    </tr>\n",
       "    <tr>\n",
       "      <th>1</th>\n",
       "      <td>2.0</td>\n",
       "      <td>2015-02-10 21:49:25</td>\n",
       "      <td>2015-02-10 22:56:29</td>\n",
       "      <td>f0ade77b43923b38237db569b016ba25</td>\n",
       "      <td>44.350693</td>\n",
       "      <td>2.0</td>\n",
       "      <td>1</td>\n",
       "      <td>1900</td>\n",
       "      <td>1</td>\n",
       "      <td>1400</td>\n",
       "      <td>1400</td>\n",
       "      <td>1.0</td>\n",
       "      <td>2.0</td>\n",
       "      <td>2.0</td>\n",
       "      <td>67.0</td>\n",
       "      <td>21</td>\n",
       "      <td>1</td>\n",
       "    </tr>\n",
       "    <tr>\n",
       "      <th>8</th>\n",
       "      <td>2.0</td>\n",
       "      <td>2015-02-16 00:11:35</td>\n",
       "      <td>2015-02-16 00:38:01</td>\n",
       "      <td>f0ade77b43923b38237db569b016ba25</td>\n",
       "      <td>47.787197</td>\n",
       "      <td>3.0</td>\n",
       "      <td>4</td>\n",
       "      <td>4771</td>\n",
       "      <td>3</td>\n",
       "      <td>820</td>\n",
       "      <td>1604</td>\n",
       "      <td>8.0</td>\n",
       "      <td>6.0</td>\n",
       "      <td>18.0</td>\n",
       "      <td>26.0</td>\n",
       "      <td>0</td>\n",
       "      <td>0</td>\n",
       "    </tr>\n",
       "    <tr>\n",
       "      <th>14</th>\n",
       "      <td>1.0</td>\n",
       "      <td>2015-02-12 03:36:46</td>\n",
       "      <td>2015-02-12 04:14:39</td>\n",
       "      <td>ef1e491a766ce3127556063d49bc2f98</td>\n",
       "      <td>48.093065</td>\n",
       "      <td>1.0</td>\n",
       "      <td>1</td>\n",
       "      <td>1525</td>\n",
       "      <td>1</td>\n",
       "      <td>1525</td>\n",
       "      <td>1525</td>\n",
       "      <td>5.0</td>\n",
       "      <td>6.0</td>\n",
       "      <td>8.0</td>\n",
       "      <td>38.0</td>\n",
       "      <td>3</td>\n",
       "      <td>3</td>\n",
       "    </tr>\n",
       "    <tr>\n",
       "      <th>15</th>\n",
       "      <td>1.0</td>\n",
       "      <td>2015-01-27 02:12:36</td>\n",
       "      <td>2015-01-27 03:02:24</td>\n",
       "      <td>ef1e491a766ce3127556063d49bc2f98</td>\n",
       "      <td>48.093065</td>\n",
       "      <td>1.0</td>\n",
       "      <td>2</td>\n",
       "      <td>3620</td>\n",
       "      <td>2</td>\n",
       "      <td>1425</td>\n",
       "      <td>2195</td>\n",
       "      <td>5.0</td>\n",
       "      <td>5.0</td>\n",
       "      <td>7.0</td>\n",
       "      <td>50.0</td>\n",
       "      <td>2</td>\n",
       "      <td>1</td>\n",
       "    </tr>\n",
       "  </tbody>\n",
       "</table>\n",
       "</div>\n",
       "      <button class=\"colab-df-convert\" onclick=\"convertToInteractive('df-2b955e26-79c5-4f16-89ac-c3c199236251')\"\n",
       "              title=\"Convert this dataframe to an interactive table.\"\n",
       "              style=\"display:none;\">\n",
       "        \n",
       "  <svg xmlns=\"http://www.w3.org/2000/svg\" height=\"24px\"viewBox=\"0 0 24 24\"\n",
       "       width=\"24px\">\n",
       "    <path d=\"M0 0h24v24H0V0z\" fill=\"none\"/>\n",
       "    <path d=\"M18.56 5.44l.94 2.06.94-2.06 2.06-.94-2.06-.94-.94-2.06-.94 2.06-2.06.94zm-11 1L8.5 8.5l.94-2.06 2.06-.94-2.06-.94L8.5 2.5l-.94 2.06-2.06.94zm10 10l.94 2.06.94-2.06 2.06-.94-2.06-.94-.94-2.06-.94 2.06-2.06.94z\"/><path d=\"M17.41 7.96l-1.37-1.37c-.4-.4-.92-.59-1.43-.59-.52 0-1.04.2-1.43.59L10.3 9.45l-7.72 7.72c-.78.78-.78 2.05 0 2.83L4 21.41c.39.39.9.59 1.41.59.51 0 1.02-.2 1.41-.59l7.78-7.78 2.81-2.81c.8-.78.8-2.07 0-2.86zM5.41 20L4 18.59l7.72-7.72 1.47 1.35L5.41 20z\"/>\n",
       "  </svg>\n",
       "      </button>\n",
       "      \n",
       "  <style>\n",
       "    .colab-df-container {\n",
       "      display:flex;\n",
       "      flex-wrap:wrap;\n",
       "      gap: 12px;\n",
       "    }\n",
       "\n",
       "    .colab-df-convert {\n",
       "      background-color: #E8F0FE;\n",
       "      border: none;\n",
       "      border-radius: 50%;\n",
       "      cursor: pointer;\n",
       "      display: none;\n",
       "      fill: #1967D2;\n",
       "      height: 32px;\n",
       "      padding: 0 0 0 0;\n",
       "      width: 32px;\n",
       "    }\n",
       "\n",
       "    .colab-df-convert:hover {\n",
       "      background-color: #E2EBFA;\n",
       "      box-shadow: 0px 1px 2px rgba(60, 64, 67, 0.3), 0px 1px 3px 1px rgba(60, 64, 67, 0.15);\n",
       "      fill: #174EA6;\n",
       "    }\n",
       "\n",
       "    [theme=dark] .colab-df-convert {\n",
       "      background-color: #3B4455;\n",
       "      fill: #D2E3FC;\n",
       "    }\n",
       "\n",
       "    [theme=dark] .colab-df-convert:hover {\n",
       "      background-color: #434B5C;\n",
       "      box-shadow: 0px 1px 3px 1px rgba(0, 0, 0, 0.15);\n",
       "      filter: drop-shadow(0px 1px 2px rgba(0, 0, 0, 0.3));\n",
       "      fill: #FFFFFF;\n",
       "    }\n",
       "  </style>\n",
       "\n",
       "      <script>\n",
       "        const buttonEl =\n",
       "          document.querySelector('#df-2b955e26-79c5-4f16-89ac-c3c199236251 button.colab-df-convert');\n",
       "        buttonEl.style.display =\n",
       "          google.colab.kernel.accessAllowed ? 'block' : 'none';\n",
       "\n",
       "        async function convertToInteractive(key) {\n",
       "          const element = document.querySelector('#df-2b955e26-79c5-4f16-89ac-c3c199236251');\n",
       "          const dataTable =\n",
       "            await google.colab.kernel.invokeFunction('convertToInteractive',\n",
       "                                                     [key], {});\n",
       "          if (!dataTable) return;\n",
       "\n",
       "          const docLinkHtml = 'Like what you see? Visit the ' +\n",
       "            '<a target=\"_blank\" href=https://colab.research.google.com/notebooks/data_table.ipynb>data table notebook</a>'\n",
       "            + ' to learn more about interactive tables.';\n",
       "          element.innerHTML = '';\n",
       "          dataTable['output_type'] = 'display_data';\n",
       "          await google.colab.output.renderOutput(dataTable, element);\n",
       "          const docLink = document.createElement('div');\n",
       "          docLink.innerHTML = docLinkHtml;\n",
       "          element.appendChild(docLink);\n",
       "        }\n",
       "      </script>\n",
       "    </div>\n",
       "  </div>\n",
       "  "
      ],
      "text/plain": [
       "    market_id           created_at actual_delivery_time  \\\n",
       "0         1.0  2015-02-06 22:24:17  2015-02-06 23:27:16   \n",
       "1         2.0  2015-02-10 21:49:25  2015-02-10 22:56:29   \n",
       "8         2.0  2015-02-16 00:11:35  2015-02-16 00:38:01   \n",
       "14        1.0  2015-02-12 03:36:46  2015-02-12 04:14:39   \n",
       "15        1.0  2015-01-27 02:12:36  2015-01-27 03:02:24   \n",
       "\n",
       "                            store_id  store_primary_category  order_protocol  \\\n",
       "0   df263d996281d984952c07998dc54358               46.336198             1.0   \n",
       "1   f0ade77b43923b38237db569b016ba25               44.350693             2.0   \n",
       "8   f0ade77b43923b38237db569b016ba25               47.787197             3.0   \n",
       "14  ef1e491a766ce3127556063d49bc2f98               48.093065             1.0   \n",
       "15  ef1e491a766ce3127556063d49bc2f98               48.093065             1.0   \n",
       "\n",
       "    total_items  subtotal  num_distinct_items  min_item_price  max_item_price  \\\n",
       "0             4      3441                   4             557            1239   \n",
       "1             1      1900                   1            1400            1400   \n",
       "8             4      4771                   3             820            1604   \n",
       "14            1      1525                   1            1525            1525   \n",
       "15            2      3620                   2            1425            2195   \n",
       "\n",
       "    total_onshift_partners  total_busy_partners  total_outstanding_orders  \\\n",
       "0                     33.0                 14.0                      21.0   \n",
       "1                      1.0                  2.0                       2.0   \n",
       "8                      8.0                  6.0                      18.0   \n",
       "14                     5.0                  6.0                       8.0   \n",
       "15                     5.0                  5.0                       7.0   \n",
       "\n",
       "    delivery_time  hour  dayofweek  \n",
       "0            63.0    22          4  \n",
       "1            67.0    21          1  \n",
       "8            26.0     0          0  \n",
       "14           38.0     3          3  \n",
       "15           50.0     2          1  "
      ]
     },
     "execution_count": 80,
     "metadata": {},
     "output_type": "execute_result"
    }
   ],
   "source": [
    "df.head()"
   ]
  },
  {
   "cell_type": "code",
   "execution_count": 81,
   "metadata": {
    "colab": {
     "base_uri": "https://localhost:8080/",
     "height": 0
    },
    "id": "NhluXvsCdVR_",
    "outputId": "4b8c0574-7c69-4a48-c43b-128522665627"
   },
   "outputs": [
    {
     "name": "stdout",
     "output_type": "stream",
     "text": [
      "<class 'pandas.core.frame.DataFrame'>\n",
      "Int64Index: 156981 entries, 0 to 197427\n",
      "Data columns (total 17 columns):\n",
      " #   Column                    Non-Null Count   Dtype  \n",
      "---  ------                    --------------   -----  \n",
      " 0   market_id                 156981 non-null  float64\n",
      " 1   created_at                156981 non-null  object \n",
      " 2   actual_delivery_time      156981 non-null  object \n",
      " 3   store_id                  156981 non-null  object \n",
      " 4   store_primary_category    156981 non-null  float64\n",
      " 5   order_protocol            156981 non-null  float64\n",
      " 6   total_items               156981 non-null  int64  \n",
      " 7   subtotal                  156981 non-null  int64  \n",
      " 8   num_distinct_items        156981 non-null  int64  \n",
      " 9   min_item_price            156981 non-null  int64  \n",
      " 10  max_item_price            156981 non-null  int64  \n",
      " 11  total_onshift_partners    156981 non-null  float64\n",
      " 12  total_busy_partners       156981 non-null  float64\n",
      " 13  total_outstanding_orders  156981 non-null  float64\n",
      " 14  delivery_time             156981 non-null  float64\n",
      " 15  hour                      156981 non-null  int64  \n",
      " 16  dayofweek                 156981 non-null  int64  \n",
      "dtypes: float64(7), int64(7), object(3)\n",
      "memory usage: 25.6+ MB\n"
     ]
    }
   ],
   "source": [
    "df.info()"
   ]
  },
  {
   "cell_type": "markdown",
   "metadata": {
    "id": "E1iHkrDFgS_u"
   },
   "source": [
    "Removing the columns of created_at,actual_delivery_time,store_id "
   ]
  },
  {
   "cell_type": "code",
   "execution_count": 82,
   "metadata": {
    "id": "Z8weR91Y2Bn0"
   },
   "outputs": [],
   "source": [
    "df.drop(columns=['created_at','actual_delivery_time','store_id'],axis=1,inplace=True)\n"
   ]
  },
  {
   "cell_type": "code",
   "execution_count": 83,
   "metadata": {
    "colab": {
     "base_uri": "https://localhost:8080/",
     "height": 0
    },
    "id": "ApbHOs-vhhou",
    "outputId": "40e606fb-5ef8-4f52-db1e-8f9dc6b25832"
   },
   "outputs": [
    {
     "data": {
      "text/plain": [
       "Index(['market_id', 'store_primary_category', 'order_protocol', 'total_items',\n",
       "       'subtotal', 'num_distinct_items', 'min_item_price', 'max_item_price',\n",
       "       'total_onshift_partners', 'total_busy_partners',\n",
       "       'total_outstanding_orders', 'delivery_time', 'hour', 'dayofweek'],\n",
       "      dtype='object')"
      ]
     },
     "execution_count": 83,
     "metadata": {},
     "output_type": "execute_result"
    }
   ],
   "source": [
    "df.columns"
   ]
  },
  {
   "cell_type": "code",
   "execution_count": 84,
   "metadata": {
    "colab": {
     "base_uri": "https://localhost:8080/",
     "height": 0
    },
    "id": "a3jxRf4CglxG",
    "outputId": "e1589ac0-9ba5-4a38-b69d-012f299e6fb4"
   },
   "outputs": [
    {
     "name": "stdout",
     "output_type": "stream",
     "text": [
      "<class 'pandas.core.frame.DataFrame'>\n",
      "Int64Index: 156981 entries, 0 to 197427\n",
      "Data columns (total 14 columns):\n",
      " #   Column                    Non-Null Count   Dtype  \n",
      "---  ------                    --------------   -----  \n",
      " 0   market_id                 156981 non-null  float64\n",
      " 1   store_primary_category    156981 non-null  float64\n",
      " 2   order_protocol            156981 non-null  float64\n",
      " 3   total_items               156981 non-null  int64  \n",
      " 4   subtotal                  156981 non-null  int64  \n",
      " 5   num_distinct_items        156981 non-null  int64  \n",
      " 6   min_item_price            156981 non-null  int64  \n",
      " 7   max_item_price            156981 non-null  int64  \n",
      " 8   total_onshift_partners    156981 non-null  float64\n",
      " 9   total_busy_partners       156981 non-null  float64\n",
      " 10  total_outstanding_orders  156981 non-null  float64\n",
      " 11  delivery_time             156981 non-null  float64\n",
      " 12  hour                      156981 non-null  int64  \n",
      " 13  dayofweek                 156981 non-null  int64  \n",
      "dtypes: float64(7), int64(7)\n",
      "memory usage: 22.0 MB\n"
     ]
    }
   ],
   "source": [
    "df.info()"
   ]
  },
  {
   "cell_type": "code",
   "execution_count": 85,
   "metadata": {
    "id": "mJ-4E_PjgWIR"
   },
   "outputs": [],
   "source": [
    "X = df.drop(columns='delivery_time')\n",
    "y = df['delivery_time']\n"
   ]
  },
  {
   "cell_type": "code",
   "execution_count": 85,
   "metadata": {
    "id": "6xA8R7pGoppK"
   },
   "outputs": [],
   "source": []
  },
  {
   "cell_type": "code",
   "execution_count": 86,
   "metadata": {
    "id": "Fj6PXEVHbwMH"
   },
   "outputs": [],
   "source": [
    "from sklearn.model_selection import train_test_split\n",
    "X_train, X_test, y_train, y_test = train_test_split(X, y, test_size=0.2, random_state=42)"
   ]
  },
  {
   "cell_type": "code",
   "execution_count": 87,
   "metadata": {
    "id": "qg0tFKoPnZFu"
   },
   "outputs": [],
   "source": [
    "from sklearn.preprocessing import MinMaxScaler    \n",
    "st_x= MinMaxScaler()    \n",
    "X_train= st_x.fit_transform(X_train)    \n",
    "X_test= st_x.fit_transform(X_test)    "
   ]
  },
  {
   "cell_type": "code",
   "execution_count": 88,
   "metadata": {
    "id": "4RCD3wuf_q6j"
   },
   "outputs": [],
   "source": [
    "from sklearn.ensemble import RandomForestRegressor\n",
    "model = RandomForestRegressor(min_samples_split = 4, min_samples_leaf =2, max_depth = 9)"
   ]
  },
  {
   "cell_type": "code",
   "execution_count": 89,
   "metadata": {
    "colab": {
     "base_uri": "https://localhost:8080/",
     "height": 0
    },
    "id": "cn5M71WpAIwd",
    "outputId": "1061b586-0a39-461c-d086-cd04309c0157"
   },
   "outputs": [
    {
     "data": {
      "text/plain": [
       "RandomForestRegressor(max_depth=9, min_samples_leaf=2, min_samples_split=4)"
      ]
     },
     "execution_count": 89,
     "metadata": {},
     "output_type": "execute_result"
    }
   ],
   "source": [
    "model.fit(X_train,y_train)"
   ]
  },
  {
   "cell_type": "code",
   "execution_count": 90,
   "metadata": {
    "id": "Jr5aZTx3ANAT"
   },
   "outputs": [],
   "source": [
    "y_pred = model.predict(X_test)"
   ]
  },
  {
   "cell_type": "code",
   "execution_count": 91,
   "metadata": {
    "id": "-VXNGTvVLx8t"
   },
   "outputs": [],
   "source": [
    "ys = {'actual' : y_test, 'predicted' : y_pred}\n",
    "ys = pd.DataFrame(ys)"
   ]
  },
  {
   "cell_type": "code",
   "execution_count": 92,
   "metadata": {
    "colab": {
     "base_uri": "https://localhost:8080/",
     "height": 206
    },
    "id": "T7yW8cqrkb1S",
    "outputId": "7850208f-f0c9-4c8b-8154-bf249f1e8acc"
   },
   "outputs": [
    {
     "data": {
      "text/html": [
       "\n",
       "  <div id=\"df-cab9a466-e74d-4eb5-9911-95711e138cb7\">\n",
       "    <div class=\"colab-df-container\">\n",
       "      <div>\n",
       "<style scoped>\n",
       "    .dataframe tbody tr th:only-of-type {\n",
       "        vertical-align: middle;\n",
       "    }\n",
       "\n",
       "    .dataframe tbody tr th {\n",
       "        vertical-align: top;\n",
       "    }\n",
       "\n",
       "    .dataframe thead th {\n",
       "        text-align: right;\n",
       "    }\n",
       "</style>\n",
       "<table border=\"1\" class=\"dataframe\">\n",
       "  <thead>\n",
       "    <tr style=\"text-align: right;\">\n",
       "      <th></th>\n",
       "      <th>actual</th>\n",
       "      <th>predicted</th>\n",
       "    </tr>\n",
       "  </thead>\n",
       "  <tbody>\n",
       "    <tr>\n",
       "      <th>111128</th>\n",
       "      <td>34.0</td>\n",
       "      <td>45.867276</td>\n",
       "    </tr>\n",
       "    <tr>\n",
       "      <th>69171</th>\n",
       "      <td>57.0</td>\n",
       "      <td>49.419719</td>\n",
       "    </tr>\n",
       "    <tr>\n",
       "      <th>187149</th>\n",
       "      <td>52.0</td>\n",
       "      <td>49.183729</td>\n",
       "    </tr>\n",
       "    <tr>\n",
       "      <th>33708</th>\n",
       "      <td>67.0</td>\n",
       "      <td>50.702173</td>\n",
       "    </tr>\n",
       "    <tr>\n",
       "      <th>129224</th>\n",
       "      <td>66.0</td>\n",
       "      <td>53.459807</td>\n",
       "    </tr>\n",
       "  </tbody>\n",
       "</table>\n",
       "</div>\n",
       "      <button class=\"colab-df-convert\" onclick=\"convertToInteractive('df-cab9a466-e74d-4eb5-9911-95711e138cb7')\"\n",
       "              title=\"Convert this dataframe to an interactive table.\"\n",
       "              style=\"display:none;\">\n",
       "        \n",
       "  <svg xmlns=\"http://www.w3.org/2000/svg\" height=\"24px\"viewBox=\"0 0 24 24\"\n",
       "       width=\"24px\">\n",
       "    <path d=\"M0 0h24v24H0V0z\" fill=\"none\"/>\n",
       "    <path d=\"M18.56 5.44l.94 2.06.94-2.06 2.06-.94-2.06-.94-.94-2.06-.94 2.06-2.06.94zm-11 1L8.5 8.5l.94-2.06 2.06-.94-2.06-.94L8.5 2.5l-.94 2.06-2.06.94zm10 10l.94 2.06.94-2.06 2.06-.94-2.06-.94-.94-2.06-.94 2.06-2.06.94z\"/><path d=\"M17.41 7.96l-1.37-1.37c-.4-.4-.92-.59-1.43-.59-.52 0-1.04.2-1.43.59L10.3 9.45l-7.72 7.72c-.78.78-.78 2.05 0 2.83L4 21.41c.39.39.9.59 1.41.59.51 0 1.02-.2 1.41-.59l7.78-7.78 2.81-2.81c.8-.78.8-2.07 0-2.86zM5.41 20L4 18.59l7.72-7.72 1.47 1.35L5.41 20z\"/>\n",
       "  </svg>\n",
       "      </button>\n",
       "      \n",
       "  <style>\n",
       "    .colab-df-container {\n",
       "      display:flex;\n",
       "      flex-wrap:wrap;\n",
       "      gap: 12px;\n",
       "    }\n",
       "\n",
       "    .colab-df-convert {\n",
       "      background-color: #E8F0FE;\n",
       "      border: none;\n",
       "      border-radius: 50%;\n",
       "      cursor: pointer;\n",
       "      display: none;\n",
       "      fill: #1967D2;\n",
       "      height: 32px;\n",
       "      padding: 0 0 0 0;\n",
       "      width: 32px;\n",
       "    }\n",
       "\n",
       "    .colab-df-convert:hover {\n",
       "      background-color: #E2EBFA;\n",
       "      box-shadow: 0px 1px 2px rgba(60, 64, 67, 0.3), 0px 1px 3px 1px rgba(60, 64, 67, 0.15);\n",
       "      fill: #174EA6;\n",
       "    }\n",
       "\n",
       "    [theme=dark] .colab-df-convert {\n",
       "      background-color: #3B4455;\n",
       "      fill: #D2E3FC;\n",
       "    }\n",
       "\n",
       "    [theme=dark] .colab-df-convert:hover {\n",
       "      background-color: #434B5C;\n",
       "      box-shadow: 0px 1px 3px 1px rgba(0, 0, 0, 0.15);\n",
       "      filter: drop-shadow(0px 1px 2px rgba(0, 0, 0, 0.3));\n",
       "      fill: #FFFFFF;\n",
       "    }\n",
       "  </style>\n",
       "\n",
       "      <script>\n",
       "        const buttonEl =\n",
       "          document.querySelector('#df-cab9a466-e74d-4eb5-9911-95711e138cb7 button.colab-df-convert');\n",
       "        buttonEl.style.display =\n",
       "          google.colab.kernel.accessAllowed ? 'block' : 'none';\n",
       "\n",
       "        async function convertToInteractive(key) {\n",
       "          const element = document.querySelector('#df-cab9a466-e74d-4eb5-9911-95711e138cb7');\n",
       "          const dataTable =\n",
       "            await google.colab.kernel.invokeFunction('convertToInteractive',\n",
       "                                                     [key], {});\n",
       "          if (!dataTable) return;\n",
       "\n",
       "          const docLinkHtml = 'Like what you see? Visit the ' +\n",
       "            '<a target=\"_blank\" href=https://colab.research.google.com/notebooks/data_table.ipynb>data table notebook</a>'\n",
       "            + ' to learn more about interactive tables.';\n",
       "          element.innerHTML = '';\n",
       "          dataTable['output_type'] = 'display_data';\n",
       "          await google.colab.output.renderOutput(dataTable, element);\n",
       "          const docLink = document.createElement('div');\n",
       "          docLink.innerHTML = docLinkHtml;\n",
       "          element.appendChild(docLink);\n",
       "        }\n",
       "      </script>\n",
       "    </div>\n",
       "  </div>\n",
       "  "
      ],
      "text/plain": [
       "        actual  predicted\n",
       "111128    34.0  45.867276\n",
       "69171     57.0  49.419719\n",
       "187149    52.0  49.183729\n",
       "33708     67.0  50.702173\n",
       "129224    66.0  53.459807"
      ]
     },
     "execution_count": 92,
     "metadata": {},
     "output_type": "execute_result"
    }
   ],
   "source": [
    "ys.head()"
   ]
  },
  {
   "cell_type": "code",
   "execution_count": 93,
   "metadata": {
    "id": "-cjugY5sAa8j"
   },
   "outputs": [],
   "source": [
    "from sklearn.metrics import mean_absolute_percentage_error, mean_squared_error"
   ]
  },
  {
   "cell_type": "code",
   "execution_count": 94,
   "metadata": {
    "colab": {
     "base_uri": "https://localhost:8080/",
     "height": 0
    },
    "id": "m9O04ke4A64D",
    "outputId": "656af6dc-ac16-475a-8fc2-fab43e896952"
   },
   "outputs": [
    {
     "name": "stdout",
     "output_type": "stream",
     "text": [
      "mape : 0.22001842942078237 , rmse :11.599389654357486, mse:134.5458403536155\n"
     ]
    }
   ],
   "source": [
    "mape = mean_absolute_percentage_error(y_test,y_pred)\n",
    "rmse = mean_squared_error(y_test,y_pred,squared=False)\n",
    "mse = mean_squared_error(y_test,y_pred,squared=True)\n",
    "print(\"mape : {0} , rmse :{1}, mse:{2}\".format(mape,rmse,mse))"
   ]
  },
  {
   "cell_type": "markdown",
   "metadata": {
    "id": "jJHg8tu1AgXe"
   },
   "source": [
    "**Bulding a MLP**"
   ]
  },
  {
   "cell_type": "code",
   "execution_count": 95,
   "metadata": {
    "id": "HYOX6wxk8Uiq"
   },
   "outputs": [],
   "source": [
    "import tensorflow as tf\n",
    "from tensorflow.keras.models import Sequential\n",
    "from keras.layers import Activation,Dense\n",
    "from tensorflow.keras.optimizers import Adam\n",
    "model = Sequential()\n"
   ]
  },
  {
   "cell_type": "code",
   "execution_count": 96,
   "metadata": {
    "id": "TUS4Xw1r9bKo"
   },
   "outputs": [],
   "source": [
    "model.add(Dense(16,activation='relu'))\n",
    "model.add(Dense(256,activation='relu'))\n",
    "model.add(Dense(512,activation='relu'))\n",
    "model.add(Dense(128,activation='relu'))\n",
    "model.add(Dense(1,activation='linear'))"
   ]
  },
  {
   "cell_type": "code",
   "execution_count": 97,
   "metadata": {
    "colab": {
     "base_uri": "https://localhost:8080/",
     "height": 0
    },
    "id": "drY3qhMrCarb",
    "outputId": "0c6f789d-87ea-4e52-db93-ba297f33be5b"
   },
   "outputs": [
    {
     "name": "stdout",
     "output_type": "stream",
     "text": [
      "Epoch 1/20\n",
      "393/393 [==============================] - 7s 16ms/step - loss: 183.2137 - mse: 183.2137 - mape: 23.9974 - val_loss: 140.9263 - val_mse: 140.9263 - val_mape: 22.4107\n",
      "Epoch 2/20\n",
      "393/393 [==============================] - 10s 26ms/step - loss: 141.2934 - mse: 141.2934 - mape: 21.9287 - val_loss: 139.7464 - val_mse: 139.7464 - val_mape: 21.8020\n",
      "Epoch 3/20\n",
      "393/393 [==============================] - 10s 26ms/step - loss: 139.0497 - mse: 139.0497 - mape: 21.7542 - val_loss: 141.7390 - val_mse: 141.7390 - val_mape: 20.6591\n",
      "Epoch 4/20\n",
      "393/393 [==============================] - 10s 25ms/step - loss: 139.0758 - mse: 139.0758 - mape: 21.7158 - val_loss: 139.9463 - val_mse: 139.9463 - val_mape: 22.9607\n",
      "Epoch 5/20\n",
      "393/393 [==============================] - 7s 17ms/step - loss: 137.5439 - mse: 137.5439 - mape: 21.6187 - val_loss: 137.6593 - val_mse: 137.6593 - val_mape: 20.9120\n",
      "Epoch 6/20\n",
      "393/393 [==============================] - 5s 14ms/step - loss: 136.2917 - mse: 136.2917 - mape: 21.5062 - val_loss: 137.4092 - val_mse: 137.4092 - val_mape: 20.9211\n",
      "Epoch 7/20\n",
      "393/393 [==============================] - 5s 14ms/step - loss: 137.1255 - mse: 137.1255 - mape: 21.5546 - val_loss: 136.2154 - val_mse: 136.2154 - val_mape: 21.6386\n",
      "Epoch 8/20\n",
      "393/393 [==============================] - 5s 14ms/step - loss: 135.7694 - mse: 135.7694 - mape: 21.4693 - val_loss: 142.4268 - val_mse: 142.4268 - val_mape: 20.4226\n",
      "Epoch 9/20\n",
      "393/393 [==============================] - 5s 14ms/step - loss: 136.2975 - mse: 136.2975 - mape: 21.4979 - val_loss: 138.4488 - val_mse: 138.4488 - val_mape: 21.0412\n",
      "Epoch 10/20\n",
      "393/393 [==============================] - 6s 14ms/step - loss: 135.4478 - mse: 135.4478 - mape: 21.4573 - val_loss: 135.9445 - val_mse: 135.9445 - val_mape: 21.2705\n",
      "Epoch 11/20\n",
      "393/393 [==============================] - 6s 14ms/step - loss: 135.2719 - mse: 135.2719 - mape: 21.4293 - val_loss: 146.6978 - val_mse: 146.6978 - val_mape: 24.3711\n",
      "Epoch 12/20\n",
      "393/393 [==============================] - 5s 14ms/step - loss: 134.4849 - mse: 134.4849 - mape: 21.3846 - val_loss: 135.2114 - val_mse: 135.2114 - val_mape: 21.8670\n",
      "Epoch 13/20\n",
      "393/393 [==============================] - 6s 14ms/step - loss: 134.5028 - mse: 134.5028 - mape: 21.3612 - val_loss: 143.2202 - val_mse: 143.2202 - val_mape: 23.8086\n",
      "Epoch 14/20\n",
      "393/393 [==============================] - 5s 14ms/step - loss: 134.4831 - mse: 134.4831 - mape: 21.3654 - val_loss: 137.1619 - val_mse: 137.1619 - val_mape: 22.6580\n",
      "Epoch 15/20\n",
      "393/393 [==============================] - 5s 14ms/step - loss: 134.1044 - mse: 134.1044 - mape: 21.3305 - val_loss: 140.1966 - val_mse: 140.1966 - val_mape: 23.3397\n",
      "Epoch 16/20\n",
      "393/393 [==============================] - 5s 13ms/step - loss: 134.3824 - mse: 134.3824 - mape: 21.3460 - val_loss: 140.6955 - val_mse: 140.6955 - val_mape: 23.5714\n",
      "Epoch 17/20\n",
      "393/393 [==============================] - 5s 13ms/step - loss: 134.8595 - mse: 134.8595 - mape: 21.3835 - val_loss: 135.0225 - val_mse: 135.0225 - val_mape: 21.7334\n",
      "Epoch 18/20\n",
      "393/393 [==============================] - 5s 14ms/step - loss: 134.0041 - mse: 134.0041 - mape: 21.3251 - val_loss: 135.4610 - val_mse: 135.4610 - val_mape: 21.6374\n",
      "Epoch 19/20\n",
      "393/393 [==============================] - 5s 13ms/step - loss: 133.6393 - mse: 133.6393 - mape: 21.3003 - val_loss: 137.9784 - val_mse: 137.9784 - val_mape: 22.7065\n",
      "Epoch 20/20\n",
      "393/393 [==============================] - 7s 18ms/step - loss: 134.0277 - mse: 134.0277 - mape: 21.3208 - val_loss: 136.6301 - val_mse: 136.6301 - val_mape: 22.3747\n"
     ]
    },
    {
     "data": {
      "text/plain": [
       "<keras.callbacks.History at 0x7fdbcc0df810>"
      ]
     },
     "execution_count": 97,
     "metadata": {},
     "output_type": "execute_result"
    }
   ],
   "source": [
    "adam = Adam(learning_rate = 0.01)\n",
    "model.compile(optimizer = adam, loss='mse', metrics = ['mse','mape'])\n",
    "model.fit(X_train,y_train, batch_size=256, epochs = 20, validation_split = 0.2, verbose=1)"
   ]
  },
  {
   "cell_type": "code",
   "execution_count": 98,
   "metadata": {
    "id": "qjC7-O1EGauo"
   },
   "outputs": [],
   "source": [
    "y_pred = model.predict(X_test)"
   ]
  },
  {
   "cell_type": "code",
   "execution_count": 99,
   "metadata": {
    "colab": {
     "base_uri": "https://localhost:8080/",
     "height": 0
    },
    "id": "vnMbu4WtG6rH",
    "outputId": "94c9af3d-0119-4f1c-cd47-eae408918430"
   },
   "outputs": [
    {
     "name": "stdout",
     "output_type": "stream",
     "text": [
      "mape : 0.22238478995437072 , rmse :11.593722234561115, mse:134.4143952521568\n"
     ]
    }
   ],
   "source": [
    "mape = mean_absolute_percentage_error(y_test,y_pred)\n",
    "rmse = mean_squared_error(y_test,y_pred,squared=False)\n",
    "mse = mean_squared_error(y_test,y_pred,squared=True)\n",
    "print(\"mape : {0} , rmse :{1}, mse:{2}\".format(mape,rmse,mse))"
   ]
  },
  {
   "cell_type": "markdown",
   "metadata": {
    "id": "fwAzpML6P5_a"
   },
   "source": [
    "We can see there is not much difference between errors if we use RandomForest and MLPs for regression and tabular data."
   ]
  }
 ],
 "metadata": {
  "accelerator": "GPU",
  "colab": {
   "collapsed_sections": [],
   "provenance": []
  },
  "kernelspec": {
   "display_name": "Python 3",
   "language": "python",
   "name": "python3"
  },
  "language_info": {
   "codemirror_mode": {
    "name": "ipython",
    "version": 3
   },
   "file_extension": ".py",
   "mimetype": "text/x-python",
   "name": "python",
   "nbconvert_exporter": "python",
   "pygments_lexer": "ipython3",
   "version": "3.8.3"
  }
 },
 "nbformat": 4,
 "nbformat_minor": 1
}
